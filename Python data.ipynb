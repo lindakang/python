{
 "cells": [
  {
   "cell_type": "code",
   "execution_count": 1,
   "metadata": {},
   "outputs": [
    {
     "name": "stdout",
     "output_type": "stream",
     "text": [
      "(null)                \u001b[34mDropbox\u001b[m\u001b[m/              \u001b[34mPublic\u001b[m\u001b[m/\r\n",
      "\u001b[34mApplications\u001b[m\u001b[m/         \u001b[34mGoogle Drive\u001b[m\u001b[m/         Python3.ipynb\r\n",
      "\u001b[34mCreative Cloud Files\u001b[m\u001b[m/ \u001b[34mLibrary\u001b[m\u001b[m/              Untitled.ipynb\r\n",
      "\u001b[34mDesktop\u001b[m\u001b[m/              \u001b[34mMovies\u001b[m\u001b[m/               nano.save\r\n",
      "\u001b[34mDocuments\u001b[m\u001b[m/            \u001b[34mMusic\u001b[m\u001b[m/                python1.ipynb\r\n",
      "\u001b[34mDownloads\u001b[m\u001b[m/            \u001b[34mPictures\u001b[m\u001b[m/             python2.ipynb\r\n"
     ]
    }
   ],
   "source": [
    "ls"
   ]
  },
  {
   "cell_type": "code",
   "execution_count": 2,
   "metadata": {},
   "outputs": [
    {
     "data": {
      "text/plain": [
       "'/Users/Linda'"
      ]
     },
     "execution_count": 2,
     "metadata": {},
     "output_type": "execute_result"
    }
   ],
   "source": [
    "pwd"
   ]
  },
  {
   "cell_type": "code",
   "execution_count": 3,
   "metadata": {},
   "outputs": [
    {
     "name": "stdout",
     "output_type": "stream",
     "text": [
      "/Users/Linda\n"
     ]
    }
   ],
   "source": [
    "cd"
   ]
  },
  {
   "cell_type": "code",
   "execution_count": 5,
   "metadata": {},
   "outputs": [
    {
     "name": "stdout",
     "output_type": "stream",
     "text": [
      "/Users/Linda/Desktop\n"
     ]
    }
   ],
   "source": [
    "cd Desktop"
   ]
  },
  {
   "cell_type": "code",
   "execution_count": 6,
   "metadata": {},
   "outputs": [
    {
     "name": "stdout",
     "output_type": "stream",
     "text": [
      "/Users/Linda/Desktop/Python\n"
     ]
    }
   ],
   "source": [
    "cd Python"
   ]
  },
  {
   "cell_type": "code",
   "execution_count": 11,
   "metadata": {},
   "outputs": [
    {
     "data": {
      "text/plain": [
       "'/Users/Linda/Desktop/Python'"
      ]
     },
     "execution_count": 11,
     "metadata": {},
     "output_type": "execute_result"
    }
   ],
   "source": [
    "pwd"
   ]
  },
  {
   "cell_type": "code",
   "execution_count": 9,
   "metadata": {},
   "outputs": [],
   "source": [
    "cp -r data-python data   ## copy files in the p\"data-python\" to the folder \"data\""
   ]
  },
  {
   "cell_type": "code",
   "execution_count": 10,
   "metadata": {},
   "outputs": [
    {
     "name": "stdout",
     "output_type": "stream",
     "text": [
      "\u001b[34mdata\u001b[m\u001b[m/        \u001b[34mdata-python\u001b[m\u001b[m/ \u001b[34mlessons\u001b[m\u001b[m/\r\n"
     ]
    }
   ],
   "source": [
    "ls"
   ]
  },
  {
   "cell_type": "code",
   "execution_count": 13,
   "metadata": {},
   "outputs": [],
   "source": [
    "import pandas\n",
    "pandas.read_csv?\n",
    "\n",
    "# if data file is not in the same directory (e.g., another subdirectory),\n",
    "# then you need to use \"..\" to go back to home directoyr\n",
    "# e.g., read_csv('../data/gapminder.csv) (see below example)"
   ]
  },
  {
   "cell_type": "code",
   "execution_count": 16,
   "metadata": {},
   "outputs": [
    {
     "name": "stdout",
     "output_type": "stream",
     "text": [
      "       country  gdpPercap_1952  gdpPercap_1957  gdpPercap_1962  \\\n",
      "0    Australia     10039.59564     10949.64959     12217.22686   \n",
      "1  New Zealand     10556.57566     12247.39532     13175.67800   \n",
      "\n",
      "   gdpPercap_1967  gdpPercap_1972  gdpPercap_1977  gdpPercap_1982  \\\n",
      "0     14526.12465     16788.62948     18334.19751     19477.00928   \n",
      "1     14463.91893     16046.03728     16233.71770     17632.41040   \n",
      "\n",
      "   gdpPercap_1987  gdpPercap_1992  gdpPercap_1997  gdpPercap_2002  \\\n",
      "0     21888.88903     23424.76683     26997.93657     30687.75473   \n",
      "1     19007.19129     18363.32494     21050.41377     23189.80135   \n",
      "\n",
      "   gdpPercap_2007  \n",
      "0     34435.36744  \n",
      "1     25185.00911  \n"
     ]
    }
   ],
   "source": [
    "data = pandas.read_csv('data/gapminder_gdp_oceania.csv')   ## .csv data files is under \"data\" directory\n",
    "print(data)"
   ]
  },
  {
   "cell_type": "code",
   "execution_count": 17,
   "metadata": {},
   "outputs": [
    {
     "data": {
      "text/plain": [
       "pandas.core.frame.DataFrame"
      ]
     },
     "execution_count": 17,
     "metadata": {},
     "output_type": "execute_result"
    }
   ],
   "source": [
    "type(data)   ## tell you data type"
   ]
  },
  {
   "cell_type": "code",
   "execution_count": 21,
   "metadata": {},
   "outputs": [
    {
     "name": "stdout",
     "output_type": "stream",
     "text": [
      "<class 'int'>\n",
      "<class 'str'>\n"
     ]
    }
   ],
   "source": [
    "print(type(5))\n",
    "print(type('hello'))"
   ]
  },
  {
   "cell_type": "code",
   "execution_count": 23,
   "metadata": {},
   "outputs": [
    {
     "data": {
      "text/plain": [
       "(2, 13)"
      ]
     },
     "execution_count": 23,
     "metadata": {},
     "output_type": "execute_result"
    }
   ],
   "source": [
    "data.shape  ## matrix type; e.g., 2 (columns) x 13 (rows)"
   ]
  },
  {
   "cell_type": "code",
   "execution_count": 26,
   "metadata": {},
   "outputs": [
    {
     "name": "stdout",
     "output_type": "stream",
     "text": [
      "<class 'pandas.core.frame.DataFrame'>\n",
      "RangeIndex: 2 entries, 0 to 1\n",
      "Data columns (total 13 columns):\n",
      "country           2 non-null object\n",
      "gdpPercap_1952    2 non-null float64\n",
      "gdpPercap_1957    2 non-null float64\n",
      "gdpPercap_1962    2 non-null float64\n",
      "gdpPercap_1967    2 non-null float64\n",
      "gdpPercap_1972    2 non-null float64\n",
      "gdpPercap_1977    2 non-null float64\n",
      "gdpPercap_1982    2 non-null float64\n",
      "gdpPercap_1987    2 non-null float64\n",
      "gdpPercap_1992    2 non-null float64\n",
      "gdpPercap_1997    2 non-null float64\n",
      "gdpPercap_2002    2 non-null float64\n",
      "gdpPercap_2007    2 non-null float64\n",
      "dtypes: float64(12), object(1)\n",
      "memory usage: 288.0+ bytes\n"
     ]
    }
   ],
   "source": [
    "data.info()"
   ]
  },
  {
   "cell_type": "code",
   "execution_count": 34,
   "metadata": {},
   "outputs": [
    {
     "data": {
      "text/plain": [
       "0    10039.59564\n",
       "1    10556.57566\n",
       "Name: gdpPercap_1952, dtype: float64"
      ]
     },
     "execution_count": 34,
     "metadata": {},
     "output_type": "execute_result"
    }
   ],
   "source": [
    "data.gdpPercap_1952   ## show single variable"
   ]
  },
  {
   "cell_type": "code",
   "execution_count": 35,
   "metadata": {},
   "outputs": [
    {
     "data": {
      "text/plain": [
       "10556.575659999999"
      ]
     },
     "execution_count": 35,
     "metadata": {},
     "output_type": "execute_result"
    }
   ],
   "source": [
    "max(data.gdpPercap_1952)"
   ]
  },
  {
   "cell_type": "code",
   "execution_count": 31,
   "metadata": {},
   "outputs": [
    {
     "data": {
      "text/plain": [
       "Index(['country', 'gdpPercap_1952', 'gdpPercap_1957', 'gdpPercap_1962',\n",
       "       'gdpPercap_1967', 'gdpPercap_1972', 'gdpPercap_1977', 'gdpPercap_1982',\n",
       "       'gdpPercap_1987', 'gdpPercap_1992', 'gdpPercap_1997', 'gdpPercap_2002',\n",
       "       'gdpPercap_2007'],\n",
       "      dtype='object')"
      ]
     },
     "execution_count": 31,
     "metadata": {},
     "output_type": "execute_result"
    }
   ],
   "source": [
    "data.columns  ## show only data columns"
   ]
  },
  {
   "cell_type": "code",
   "execution_count": 32,
   "metadata": {},
   "outputs": [
    {
     "data": {
      "text/plain": [
       "list"
      ]
     },
     "execution_count": 32,
     "metadata": {},
     "output_type": "execute_result"
    }
   ],
   "source": [
    "type(list(data.columns))"
   ]
  },
  {
   "cell_type": "code",
   "execution_count": 36,
   "metadata": {},
   "outputs": [
    {
     "data": {
      "text/plain": [
       "['T',\n",
       " '_AXIS_ALIASES',\n",
       " '_AXIS_IALIASES',\n",
       " '_AXIS_LEN',\n",
       " '_AXIS_NAMES',\n",
       " '_AXIS_NUMBERS',\n",
       " '_AXIS_ORDERS',\n",
       " '_AXIS_REVERSED',\n",
       " '_AXIS_SLICEMAP',\n",
       " '__abs__',\n",
       " '__add__',\n",
       " '__and__',\n",
       " '__array__',\n",
       " '__array_wrap__',\n",
       " '__bool__',\n",
       " '__bytes__',\n",
       " '__class__',\n",
       " '__contains__',\n",
       " '__delattr__',\n",
       " '__delitem__',\n",
       " '__dict__',\n",
       " '__dir__',\n",
       " '__div__',\n",
       " '__doc__',\n",
       " '__eq__',\n",
       " '__finalize__',\n",
       " '__floordiv__',\n",
       " '__format__',\n",
       " '__ge__',\n",
       " '__getattr__',\n",
       " '__getattribute__',\n",
       " '__getitem__',\n",
       " '__getstate__',\n",
       " '__gt__',\n",
       " '__hash__',\n",
       " '__iadd__',\n",
       " '__imul__',\n",
       " '__init__',\n",
       " '__invert__',\n",
       " '__ipow__',\n",
       " '__isub__',\n",
       " '__iter__',\n",
       " '__itruediv__',\n",
       " '__le__',\n",
       " '__len__',\n",
       " '__lt__',\n",
       " '__mod__',\n",
       " '__module__',\n",
       " '__mul__',\n",
       " '__ne__',\n",
       " '__neg__',\n",
       " '__new__',\n",
       " '__nonzero__',\n",
       " '__or__',\n",
       " '__pow__',\n",
       " '__radd__',\n",
       " '__rand__',\n",
       " '__rdiv__',\n",
       " '__reduce__',\n",
       " '__reduce_ex__',\n",
       " '__repr__',\n",
       " '__rfloordiv__',\n",
       " '__rmod__',\n",
       " '__rmul__',\n",
       " '__ror__',\n",
       " '__round__',\n",
       " '__rpow__',\n",
       " '__rsub__',\n",
       " '__rtruediv__',\n",
       " '__rxor__',\n",
       " '__setattr__',\n",
       " '__setitem__',\n",
       " '__setstate__',\n",
       " '__sizeof__',\n",
       " '__str__',\n",
       " '__sub__',\n",
       " '__subclasshook__',\n",
       " '__truediv__',\n",
       " '__unicode__',\n",
       " '__weakref__',\n",
       " '__xor__',\n",
       " '_accessors',\n",
       " '_add_numeric_operations',\n",
       " '_add_series_only_operations',\n",
       " '_add_series_or_dataframe_operations',\n",
       " '_agg_by_level',\n",
       " '_align_frame',\n",
       " '_align_series',\n",
       " '_apply_broadcast',\n",
       " '_apply_empty_result',\n",
       " '_apply_raw',\n",
       " '_apply_standard',\n",
       " '_at',\n",
       " '_box_col_values',\n",
       " '_box_item_values',\n",
       " '_check_inplace_setting',\n",
       " '_check_is_chained_assignment_possible',\n",
       " '_check_percentile',\n",
       " '_check_setitem_copy',\n",
       " '_clear_item_cache',\n",
       " '_combine_const',\n",
       " '_combine_frame',\n",
       " '_combine_match_columns',\n",
       " '_combine_match_index',\n",
       " '_combine_series',\n",
       " '_combine_series_infer',\n",
       " '_compare_frame',\n",
       " '_compare_frame_evaluate',\n",
       " '_consolidate_inplace',\n",
       " '_construct_axes_dict',\n",
       " '_construct_axes_dict_for_slice',\n",
       " '_construct_axes_dict_from',\n",
       " '_construct_axes_from_arguments',\n",
       " '_constructor',\n",
       " '_constructor_expanddim',\n",
       " '_constructor_sliced',\n",
       " '_convert',\n",
       " '_count_level',\n",
       " '_create_indexer',\n",
       " '_dir_additions',\n",
       " '_dir_deletions',\n",
       " '_ensure_valid_index',\n",
       " '_expand_axes',\n",
       " '_flex_compare_frame',\n",
       " '_from_arrays',\n",
       " '_from_axes',\n",
       " '_get_agg_axis',\n",
       " '_get_axis',\n",
       " '_get_axis_name',\n",
       " '_get_axis_number',\n",
       " '_get_axis_resolvers',\n",
       " '_get_block_manager_axis',\n",
       " '_get_bool_data',\n",
       " '_get_cacher',\n",
       " '_get_index_resolvers',\n",
       " '_get_item_cache',\n",
       " '_get_numeric_data',\n",
       " '_get_values',\n",
       " '_getitem_array',\n",
       " '_getitem_column',\n",
       " '_getitem_frame',\n",
       " '_getitem_multilevel',\n",
       " '_getitem_slice',\n",
       " '_iat',\n",
       " '_iget_item_cache',\n",
       " '_iloc',\n",
       " '_indexed_same',\n",
       " '_info_axis',\n",
       " '_info_axis_name',\n",
       " '_info_axis_number',\n",
       " '_info_repr',\n",
       " '_init_dict',\n",
       " '_init_mgr',\n",
       " '_init_ndarray',\n",
       " '_internal_names',\n",
       " '_internal_names_set',\n",
       " '_is_cached',\n",
       " '_is_datelike_mixed_type',\n",
       " '_is_mixed_type',\n",
       " '_is_numeric_mixed_type',\n",
       " '_is_view',\n",
       " '_ix',\n",
       " '_ixs',\n",
       " '_join_compat',\n",
       " '_loc',\n",
       " '_maybe_cache_changed',\n",
       " '_maybe_update_cacher',\n",
       " '_metadata',\n",
       " '_needs_reindex_multi',\n",
       " '_nsorted',\n",
       " '_protect_consolidate',\n",
       " '_reduce',\n",
       " '_reindex_axes',\n",
       " '_reindex_axis',\n",
       " '_reindex_columns',\n",
       " '_reindex_index',\n",
       " '_reindex_multi',\n",
       " '_reindex_with_indexers',\n",
       " '_repr_fits_horizontal_',\n",
       " '_repr_fits_vertical_',\n",
       " '_repr_html_',\n",
       " '_repr_latex_',\n",
       " '_reset_cache',\n",
       " '_reset_cacher',\n",
       " '_sanitize_column',\n",
       " '_series',\n",
       " '_set_as_cached',\n",
       " '_set_axis',\n",
       " '_set_axis_name',\n",
       " '_set_is_copy',\n",
       " '_set_item',\n",
       " '_setitem_array',\n",
       " '_setitem_frame',\n",
       " '_setitem_slice',\n",
       " '_setup_axes',\n",
       " '_slice',\n",
       " '_stat_axis',\n",
       " '_stat_axis_name',\n",
       " '_stat_axis_number',\n",
       " '_typ',\n",
       " '_unpickle_frame_compat',\n",
       " '_unpickle_matrix_compat',\n",
       " '_update_inplace',\n",
       " '_validate_dtype',\n",
       " '_values',\n",
       " '_xs',\n",
       " 'abs',\n",
       " 'add',\n",
       " 'add_prefix',\n",
       " 'add_suffix',\n",
       " 'align',\n",
       " 'all',\n",
       " 'any',\n",
       " 'append',\n",
       " 'apply',\n",
       " 'applymap',\n",
       " 'as_blocks',\n",
       " 'as_matrix',\n",
       " 'asfreq',\n",
       " 'assign',\n",
       " 'astype',\n",
       " 'at',\n",
       " 'at_time',\n",
       " 'axes',\n",
       " 'between_time',\n",
       " 'bfill',\n",
       " 'blocks',\n",
       " 'bool',\n",
       " 'boxplot',\n",
       " 'clip',\n",
       " 'clip_lower',\n",
       " 'clip_upper',\n",
       " 'columns',\n",
       " 'combine',\n",
       " 'combineAdd',\n",
       " 'combineMult',\n",
       " 'combine_first',\n",
       " 'compound',\n",
       " 'consolidate',\n",
       " 'convert_objects',\n",
       " 'copy',\n",
       " 'corr',\n",
       " 'corrwith',\n",
       " 'count',\n",
       " 'country',\n",
       " 'cov',\n",
       " 'cummax',\n",
       " 'cummin',\n",
       " 'cumprod',\n",
       " 'cumsum',\n",
       " 'describe',\n",
       " 'diff',\n",
       " 'div',\n",
       " 'divide',\n",
       " 'dot',\n",
       " 'drop',\n",
       " 'drop_duplicates',\n",
       " 'dropna',\n",
       " 'dtypes',\n",
       " 'duplicated',\n",
       " 'empty',\n",
       " 'eq',\n",
       " 'equals',\n",
       " 'eval',\n",
       " 'ewm',\n",
       " 'expanding',\n",
       " 'ffill',\n",
       " 'fillna',\n",
       " 'filter',\n",
       " 'first',\n",
       " 'first_valid_index',\n",
       " 'floordiv',\n",
       " 'from_csv',\n",
       " 'from_dict',\n",
       " 'from_items',\n",
       " 'from_records',\n",
       " 'ftypes',\n",
       " 'gdpPercap_1952',\n",
       " 'gdpPercap_1957',\n",
       " 'gdpPercap_1962',\n",
       " 'gdpPercap_1967',\n",
       " 'gdpPercap_1972',\n",
       " 'gdpPercap_1977',\n",
       " 'gdpPercap_1982',\n",
       " 'gdpPercap_1987',\n",
       " 'gdpPercap_1992',\n",
       " 'gdpPercap_1997',\n",
       " 'gdpPercap_2002',\n",
       " 'gdpPercap_2007',\n",
       " 'ge',\n",
       " 'get',\n",
       " 'get_dtype_counts',\n",
       " 'get_ftype_counts',\n",
       " 'get_value',\n",
       " 'get_values',\n",
       " 'groupby',\n",
       " 'gt',\n",
       " 'head',\n",
       " 'hist',\n",
       " 'iat',\n",
       " 'icol',\n",
       " 'idxmax',\n",
       " 'idxmin',\n",
       " 'iget_value',\n",
       " 'iloc',\n",
       " 'index',\n",
       " 'info',\n",
       " 'insert',\n",
       " 'interpolate',\n",
       " 'irow',\n",
       " 'is_copy',\n",
       " 'isin',\n",
       " 'isnull',\n",
       " 'items',\n",
       " 'iteritems',\n",
       " 'iterkv',\n",
       " 'iterrows',\n",
       " 'itertuples',\n",
       " 'ix',\n",
       " 'join',\n",
       " 'keys',\n",
       " 'kurt',\n",
       " 'kurtosis',\n",
       " 'last',\n",
       " 'last_valid_index',\n",
       " 'le',\n",
       " 'loc',\n",
       " 'lookup',\n",
       " 'lt',\n",
       " 'mad',\n",
       " 'mask',\n",
       " 'max',\n",
       " 'mean',\n",
       " 'median',\n",
       " 'memory_usage',\n",
       " 'merge',\n",
       " 'min',\n",
       " 'mod',\n",
       " 'mode',\n",
       " 'mul',\n",
       " 'multiply',\n",
       " 'ndim',\n",
       " 'ne',\n",
       " 'nlargest',\n",
       " 'notnull',\n",
       " 'nsmallest',\n",
       " 'pct_change',\n",
       " 'pipe',\n",
       " 'pivot',\n",
       " 'pivot_table',\n",
       " 'plot',\n",
       " 'pop',\n",
       " 'pow',\n",
       " 'prod',\n",
       " 'product',\n",
       " 'quantile',\n",
       " 'query',\n",
       " 'radd',\n",
       " 'rank',\n",
       " 'rdiv',\n",
       " 'reindex',\n",
       " 'reindex_axis',\n",
       " 'reindex_like',\n",
       " 'rename',\n",
       " 'rename_axis',\n",
       " 'reorder_levels',\n",
       " 'replace',\n",
       " 'resample',\n",
       " 'reset_index',\n",
       " 'rfloordiv',\n",
       " 'rmod',\n",
       " 'rmul',\n",
       " 'rolling',\n",
       " 'round',\n",
       " 'rpow',\n",
       " 'rsub',\n",
       " 'rtruediv',\n",
       " 'sample',\n",
       " 'select',\n",
       " 'select_dtypes',\n",
       " 'sem',\n",
       " 'set_axis',\n",
       " 'set_index',\n",
       " 'set_value',\n",
       " 'shape',\n",
       " 'shift',\n",
       " 'size',\n",
       " 'skew',\n",
       " 'slice_shift',\n",
       " 'sort',\n",
       " 'sort_index',\n",
       " 'sort_values',\n",
       " 'sortlevel',\n",
       " 'squeeze',\n",
       " 'stack',\n",
       " 'std',\n",
       " 'style',\n",
       " 'sub',\n",
       " 'subtract',\n",
       " 'sum',\n",
       " 'swapaxes',\n",
       " 'swaplevel',\n",
       " 'tail',\n",
       " 'take',\n",
       " 'to_clipboard',\n",
       " 'to_csv',\n",
       " 'to_dense',\n",
       " 'to_dict',\n",
       " 'to_excel',\n",
       " 'to_gbq',\n",
       " 'to_hdf',\n",
       " 'to_html',\n",
       " 'to_json',\n",
       " 'to_latex',\n",
       " 'to_msgpack',\n",
       " 'to_panel',\n",
       " 'to_period',\n",
       " 'to_pickle',\n",
       " 'to_records',\n",
       " 'to_sparse',\n",
       " 'to_sql',\n",
       " 'to_stata',\n",
       " 'to_string',\n",
       " 'to_timestamp',\n",
       " 'to_wide',\n",
       " 'to_xarray',\n",
       " 'transpose',\n",
       " 'truediv',\n",
       " 'truncate',\n",
       " 'tshift',\n",
       " 'tz_convert',\n",
       " 'tz_localize',\n",
       " 'unstack',\n",
       " 'update',\n",
       " 'values',\n",
       " 'var',\n",
       " 'where',\n",
       " 'xs']"
      ]
     },
     "execution_count": 36,
     "metadata": {},
     "output_type": "execute_result"
    }
   ],
   "source": [
    "dir(data)"
   ]
  },
  {
   "cell_type": "code",
   "execution_count": 40,
   "metadata": {},
   "outputs": [
    {
     "name": "stdout",
     "output_type": "stream",
     "text": [
      "             gdpPercap_1952  gdpPercap_1957  gdpPercap_1962  gdpPercap_1967  \\\n",
      "country                                                                       \n",
      "Australia       10039.59564     10949.64959     12217.22686     14526.12465   \n",
      "New Zealand     10556.57566     12247.39532     13175.67800     14463.91893   \n",
      "\n",
      "             gdpPercap_1972  gdpPercap_1977  gdpPercap_1982  gdpPercap_1987  \\\n",
      "country                                                                       \n",
      "Australia       16788.62948     18334.19751     19477.00928     21888.88903   \n",
      "New Zealand     16046.03728     16233.71770     17632.41040     19007.19129   \n",
      "\n",
      "             gdpPercap_1992  gdpPercap_1997  gdpPercap_2002  gdpPercap_2007  \n",
      "country                                                                      \n",
      "Australia       23424.76683     26997.93657     30687.75473     34435.36744  \n",
      "New Zealand     18363.32494     21050.41377     23189.80135     25185.00911  \n"
     ]
    }
   ],
   "source": [
    "data = pandas.read_csv('data/gapminder_gdp_oceania.csv', index_col='country')   ## assign first row into \"country\"\n",
    "print(data)"
   ]
  },
  {
   "cell_type": "code",
   "execution_count": 45,
   "metadata": {},
   "outputs": [
    {
     "data": {
      "text/plain": [
       "(2, 12)"
      ]
     },
     "execution_count": 45,
     "metadata": {},
     "output_type": "execute_result"
    }
   ],
   "source": [
    "data.shape  ## first row becomes index \"country\", therefore it becomes 12 rows from 13 rows\n",
    "# compare to In [16], which country is the first row"
   ]
  },
  {
   "cell_type": "code",
   "execution_count": 42,
   "metadata": {},
   "outputs": [
    {
     "data": {
      "text/plain": [
       "Index(['gdpPercap_1952', 'gdpPercap_1957', 'gdpPercap_1962', 'gdpPercap_1967',\n",
       "       'gdpPercap_1972', 'gdpPercap_1977', 'gdpPercap_1982', 'gdpPercap_1987',\n",
       "       'gdpPercap_1992', 'gdpPercap_1997', 'gdpPercap_2002', 'gdpPercap_2007'],\n",
       "      dtype='object')"
      ]
     },
     "execution_count": 42,
     "metadata": {},
     "output_type": "execute_result"
    }
   ],
   "source": [
    "data.columns"
   ]
  },
  {
   "cell_type": "code",
   "execution_count": 43,
   "metadata": {},
   "outputs": [
    {
     "name": "stdout",
     "output_type": "stream",
     "text": [
      "country           Australia  New Zealand\n",
      "gdpPercap_1952  10039.59564  10556.57566\n",
      "gdpPercap_1957  10949.64959  12247.39532\n",
      "gdpPercap_1962  12217.22686  13175.67800\n",
      "gdpPercap_1967  14526.12465  14463.91893\n",
      "gdpPercap_1972  16788.62948  16046.03728\n",
      "gdpPercap_1977  18334.19751  16233.71770\n",
      "gdpPercap_1982  19477.00928  17632.41040\n",
      "gdpPercap_1987  21888.88903  19007.19129\n",
      "gdpPercap_1992  23424.76683  18363.32494\n",
      "gdpPercap_1997  26997.93657  21050.41377\n",
      "gdpPercap_2002  30687.75473  23189.80135\n",
      "gdpPercap_2007  34435.36744  25185.00911\n"
     ]
    }
   ],
   "source": [
    "print(data.T)  ## make data into a table"
   ]
  },
  {
   "cell_type": "code",
   "execution_count": 44,
   "metadata": {},
   "outputs": [
    {
     "data": {
      "text/html": [
       "<div>\n",
       "<table border=\"1\" class=\"dataframe\">\n",
       "  <thead>\n",
       "    <tr style=\"text-align: right;\">\n",
       "      <th></th>\n",
       "      <th>gdpPercap_1952</th>\n",
       "      <th>gdpPercap_1957</th>\n",
       "      <th>gdpPercap_1962</th>\n",
       "      <th>gdpPercap_1967</th>\n",
       "      <th>gdpPercap_1972</th>\n",
       "      <th>gdpPercap_1977</th>\n",
       "      <th>gdpPercap_1982</th>\n",
       "      <th>gdpPercap_1987</th>\n",
       "      <th>gdpPercap_1992</th>\n",
       "      <th>gdpPercap_1997</th>\n",
       "      <th>gdpPercap_2002</th>\n",
       "      <th>gdpPercap_2007</th>\n",
       "    </tr>\n",
       "  </thead>\n",
       "  <tbody>\n",
       "    <tr>\n",
       "      <th>count</th>\n",
       "      <td>2.000000</td>\n",
       "      <td>2.000000</td>\n",
       "      <td>2.000000</td>\n",
       "      <td>2.000000</td>\n",
       "      <td>2.00000</td>\n",
       "      <td>2.000000</td>\n",
       "      <td>2.000000</td>\n",
       "      <td>2.000000</td>\n",
       "      <td>2.000000</td>\n",
       "      <td>2.000000</td>\n",
       "      <td>2.000000</td>\n",
       "      <td>2.000000</td>\n",
       "    </tr>\n",
       "    <tr>\n",
       "      <th>mean</th>\n",
       "      <td>10298.085650</td>\n",
       "      <td>11598.522455</td>\n",
       "      <td>12696.452430</td>\n",
       "      <td>14495.021790</td>\n",
       "      <td>16417.33338</td>\n",
       "      <td>17283.957605</td>\n",
       "      <td>18554.709840</td>\n",
       "      <td>20448.040160</td>\n",
       "      <td>20894.045885</td>\n",
       "      <td>24024.175170</td>\n",
       "      <td>26938.778040</td>\n",
       "      <td>29810.188275</td>\n",
       "    </tr>\n",
       "    <tr>\n",
       "      <th>std</th>\n",
       "      <td>365.560078</td>\n",
       "      <td>917.644806</td>\n",
       "      <td>677.727301</td>\n",
       "      <td>43.986086</td>\n",
       "      <td>525.09198</td>\n",
       "      <td>1485.263517</td>\n",
       "      <td>1304.328377</td>\n",
       "      <td>2037.668013</td>\n",
       "      <td>3578.979883</td>\n",
       "      <td>4205.533703</td>\n",
       "      <td>5301.853680</td>\n",
       "      <td>6540.991104</td>\n",
       "    </tr>\n",
       "    <tr>\n",
       "      <th>min</th>\n",
       "      <td>10039.595640</td>\n",
       "      <td>10949.649590</td>\n",
       "      <td>12217.226860</td>\n",
       "      <td>14463.918930</td>\n",
       "      <td>16046.03728</td>\n",
       "      <td>16233.717700</td>\n",
       "      <td>17632.410400</td>\n",
       "      <td>19007.191290</td>\n",
       "      <td>18363.324940</td>\n",
       "      <td>21050.413770</td>\n",
       "      <td>23189.801350</td>\n",
       "      <td>25185.009110</td>\n",
       "    </tr>\n",
       "    <tr>\n",
       "      <th>25%</th>\n",
       "      <td>10168.840645</td>\n",
       "      <td>11274.086022</td>\n",
       "      <td>12456.839645</td>\n",
       "      <td>14479.470360</td>\n",
       "      <td>16231.68533</td>\n",
       "      <td>16758.837652</td>\n",
       "      <td>18093.560120</td>\n",
       "      <td>19727.615725</td>\n",
       "      <td>19628.685413</td>\n",
       "      <td>22537.294470</td>\n",
       "      <td>25064.289695</td>\n",
       "      <td>27497.598692</td>\n",
       "    </tr>\n",
       "    <tr>\n",
       "      <th>50%</th>\n",
       "      <td>10298.085650</td>\n",
       "      <td>11598.522455</td>\n",
       "      <td>12696.452430</td>\n",
       "      <td>14495.021790</td>\n",
       "      <td>16417.33338</td>\n",
       "      <td>17283.957605</td>\n",
       "      <td>18554.709840</td>\n",
       "      <td>20448.040160</td>\n",
       "      <td>20894.045885</td>\n",
       "      <td>24024.175170</td>\n",
       "      <td>26938.778040</td>\n",
       "      <td>29810.188275</td>\n",
       "    </tr>\n",
       "    <tr>\n",
       "      <th>75%</th>\n",
       "      <td>10427.330655</td>\n",
       "      <td>11922.958888</td>\n",
       "      <td>12936.065215</td>\n",
       "      <td>14510.573220</td>\n",
       "      <td>16602.98143</td>\n",
       "      <td>17809.077557</td>\n",
       "      <td>19015.859560</td>\n",
       "      <td>21168.464595</td>\n",
       "      <td>22159.406358</td>\n",
       "      <td>25511.055870</td>\n",
       "      <td>28813.266385</td>\n",
       "      <td>32122.777857</td>\n",
       "    </tr>\n",
       "    <tr>\n",
       "      <th>max</th>\n",
       "      <td>10556.575660</td>\n",
       "      <td>12247.395320</td>\n",
       "      <td>13175.678000</td>\n",
       "      <td>14526.124650</td>\n",
       "      <td>16788.62948</td>\n",
       "      <td>18334.197510</td>\n",
       "      <td>19477.009280</td>\n",
       "      <td>21888.889030</td>\n",
       "      <td>23424.766830</td>\n",
       "      <td>26997.936570</td>\n",
       "      <td>30687.754730</td>\n",
       "      <td>34435.367440</td>\n",
       "    </tr>\n",
       "  </tbody>\n",
       "</table>\n",
       "</div>"
      ],
      "text/plain": [
       "       gdpPercap_1952  gdpPercap_1957  gdpPercap_1962  gdpPercap_1967  \\\n",
       "count        2.000000        2.000000        2.000000        2.000000   \n",
       "mean     10298.085650    11598.522455    12696.452430    14495.021790   \n",
       "std        365.560078      917.644806      677.727301       43.986086   \n",
       "min      10039.595640    10949.649590    12217.226860    14463.918930   \n",
       "25%      10168.840645    11274.086022    12456.839645    14479.470360   \n",
       "50%      10298.085650    11598.522455    12696.452430    14495.021790   \n",
       "75%      10427.330655    11922.958888    12936.065215    14510.573220   \n",
       "max      10556.575660    12247.395320    13175.678000    14526.124650   \n",
       "\n",
       "       gdpPercap_1972  gdpPercap_1977  gdpPercap_1982  gdpPercap_1987  \\\n",
       "count         2.00000        2.000000        2.000000        2.000000   \n",
       "mean      16417.33338    17283.957605    18554.709840    20448.040160   \n",
       "std         525.09198     1485.263517     1304.328377     2037.668013   \n",
       "min       16046.03728    16233.717700    17632.410400    19007.191290   \n",
       "25%       16231.68533    16758.837652    18093.560120    19727.615725   \n",
       "50%       16417.33338    17283.957605    18554.709840    20448.040160   \n",
       "75%       16602.98143    17809.077557    19015.859560    21168.464595   \n",
       "max       16788.62948    18334.197510    19477.009280    21888.889030   \n",
       "\n",
       "       gdpPercap_1992  gdpPercap_1997  gdpPercap_2002  gdpPercap_2007  \n",
       "count        2.000000        2.000000        2.000000        2.000000  \n",
       "mean     20894.045885    24024.175170    26938.778040    29810.188275  \n",
       "std       3578.979883     4205.533703     5301.853680     6540.991104  \n",
       "min      18363.324940    21050.413770    23189.801350    25185.009110  \n",
       "25%      19628.685413    22537.294470    25064.289695    27497.598692  \n",
       "50%      20894.045885    24024.175170    26938.778040    29810.188275  \n",
       "75%      22159.406358    25511.055870    28813.266385    32122.777857  \n",
       "max      23424.766830    26997.936570    30687.754730    34435.367440  "
      ]
     },
     "execution_count": 44,
     "metadata": {},
     "output_type": "execute_result"
    }
   ],
   "source": [
    "data.describe()"
   ]
  },
  {
   "cell_type": "code",
   "execution_count": 46,
   "metadata": {},
   "outputs": [
    {
     "data": {
      "text/html": [
       "<div>\n",
       "<table border=\"1\" class=\"dataframe\">\n",
       "  <thead>\n",
       "    <tr style=\"text-align: right;\">\n",
       "      <th>country</th>\n",
       "      <th>Australia</th>\n",
       "      <th>New Zealand</th>\n",
       "    </tr>\n",
       "  </thead>\n",
       "  <tbody>\n",
       "    <tr>\n",
       "      <th>mean</th>\n",
       "      <td>19980.595634</td>\n",
       "      <td>17262.622813</td>\n",
       "    </tr>\n",
       "    <tr>\n",
       "      <th>std</th>\n",
       "      <td>7815.405220</td>\n",
       "      <td>4409.009167</td>\n",
       "    </tr>\n",
       "    <tr>\n",
       "      <th>min</th>\n",
       "      <td>10039.595640</td>\n",
       "      <td>10556.575660</td>\n",
       "    </tr>\n",
       "    <tr>\n",
       "      <th>25%</th>\n",
       "      <td>13948.900203</td>\n",
       "      <td>14141.858698</td>\n",
       "    </tr>\n",
       "    <tr>\n",
       "      <th>50%</th>\n",
       "      <td>18905.603395</td>\n",
       "      <td>16933.064050</td>\n",
       "    </tr>\n",
       "    <tr>\n",
       "      <th>75%</th>\n",
       "      <td>24318.059265</td>\n",
       "      <td>19517.996910</td>\n",
       "    </tr>\n",
       "    <tr>\n",
       "      <th>max</th>\n",
       "      <td>34435.367440</td>\n",
       "      <td>25185.009110</td>\n",
       "    </tr>\n",
       "  </tbody>\n",
       "</table>\n",
       "</div>"
      ],
      "text/plain": [
       "country     Australia   New Zealand\n",
       "mean     19980.595634  17262.622813\n",
       "std       7815.405220   4409.009167\n",
       "min      10039.595640  10556.575660\n",
       "25%      13948.900203  14141.858698\n",
       "50%      18905.603395  16933.064050\n",
       "75%      24318.059265  19517.996910\n",
       "max      34435.367440  25185.009110"
      ]
     },
     "execution_count": 46,
     "metadata": {},
     "output_type": "execute_result"
    }
   ],
   "source": [
    "data.T.describe()[1:]"
   ]
  },
  {
   "cell_type": "code",
   "execution_count": 76,
   "metadata": {},
   "outputs": [
    {
     "name": "stdout",
     "output_type": "stream",
     "text": [
      "   continent              country  gdpPercap_1952  gdpPercap_1957  \\\n",
      "0   Americas            Argentina     5911.315053     6856.856212   \n",
      "1   Americas              Bolivia     2677.326347     2127.686326   \n",
      "2   Americas               Brazil     2108.944355     2487.365989   \n",
      "3   Americas               Canada    11367.161120    12489.950060   \n",
      "4   Americas                Chile     3939.978789     4315.622723   \n",
      "5   Americas             Colombia     2144.115096     2323.805581   \n",
      "6   Americas           Costa Rica     2627.009471     2990.010802   \n",
      "7   Americas                 Cuba     5586.538780     6092.174359   \n",
      "8   Americas   Dominican Republic     1397.717137     1544.402995   \n",
      "9   Americas              Ecuador     3522.110717     3780.546651   \n",
      "10  Americas          El Salvador     3048.302900     3421.523218   \n",
      "11  Americas            Guatemala     2428.237769     2617.155967   \n",
      "12  Americas                Haiti     1840.366939     1726.887882   \n",
      "13  Americas             Honduras     2194.926204     2220.487682   \n",
      "14  Americas              Jamaica     2898.530881     4756.525781   \n",
      "15  Americas               Mexico     3478.125529     4131.546641   \n",
      "16  Americas            Nicaragua     3112.363948     3457.415947   \n",
      "17  Americas               Panama     2480.380334     2961.800905   \n",
      "18  Americas             Paraguay     1952.308701     2046.154706   \n",
      "19  Americas                 Peru     3758.523437     4245.256698   \n",
      "20  Americas          Puerto Rico     3081.959785     3907.156189   \n",
      "21  Americas  Trinidad and Tobago     3023.271928     4100.393400   \n",
      "22  Americas        United States    13990.482080    14847.127120   \n",
      "23  Americas              Uruguay     5716.766744     6150.772969   \n",
      "24  Americas            Venezuela     7689.799761     9802.466526   \n",
      "\n",
      "    gdpPercap_1962  gdpPercap_1967  gdpPercap_1972  gdpPercap_1977  \\\n",
      "0      7133.166023     8052.953021     9443.038526    10079.026740   \n",
      "1      2180.972546     2586.886053     2980.331339     3548.097832   \n",
      "2      3336.585802     3429.864357     4985.711467     6660.118654   \n",
      "3     13462.485550    16076.588030    18970.570860    22090.883060   \n",
      "4      4519.094331     5106.654313     5494.024437     4756.763836   \n",
      "5      2492.351109     2678.729839     3264.660041     3815.807870   \n",
      "6      3460.937025     4161.727834     5118.146939     5926.876967   \n",
      "7      5180.755910     5690.268015     5305.445256     6380.494966   \n",
      "8      1662.137359     1653.723003     2189.874499     2681.988900   \n",
      "9      4086.114078     4579.074215     5280.994710     6679.623260   \n",
      "10     3776.803627     4358.595393     4520.246008     5138.922374   \n",
      "11     2750.364446     3242.531147     4031.408271     4879.992748   \n",
      "12     1796.589032     1452.057666     1654.456946     1874.298931   \n",
      "13     2291.156835     2538.269358     2529.842345     3203.208066   \n",
      "14     5246.107524     6124.703451     7433.889293     6650.195573   \n",
      "15     4581.609385     5754.733883     6809.406690     7674.929108   \n",
      "16     3634.364406     4643.393534     4688.593267     5486.371089   \n",
      "17     3536.540301     4421.009084     5364.249663     5351.912144   \n",
      "18     2148.027146     2299.376311     2523.337977     3248.373311   \n",
      "19     4957.037982     5788.093330     5937.827283     6281.290855   \n",
      "20     5108.344630     6929.277714     9123.041742     9770.524921   \n",
      "21     4997.523971     5621.368472     6619.551419     7899.554209   \n",
      "22    16173.145860    19530.365570    21806.035940    24072.632130   \n",
      "23     5603.357717     5444.619620     5703.408898     6504.339663   \n",
      "24     8422.974165     9541.474188    10505.259660    13143.950950   \n",
      "\n",
      "    gdpPercap_1982  gdpPercap_1987  gdpPercap_1992  gdpPercap_1997  \\\n",
      "0      8997.897412     9139.671389     9308.418710    10967.281950   \n",
      "1      3156.510452     2753.691490     2961.699694     3326.143191   \n",
      "2      7030.835878     7807.095818     6950.283021     7957.980824   \n",
      "3     22898.792140    26626.515030    26342.884260    28954.925890   \n",
      "4      5095.665738     5547.063754     7596.125964    10118.053180   \n",
      "5      4397.575659     4903.219100     5444.648617     6117.361746   \n",
      "6      5262.734751     5629.915318     6160.416317     6677.045314   \n",
      "7      7316.918107     7532.924763     5592.843963     5431.990415   \n",
      "8      2861.092386     2899.842175     3044.214214     3614.101285   \n",
      "9      7213.791267     6481.776993     7103.702595     7429.455877   \n",
      "10     4098.344175     4140.442097     4444.231700     5154.825496   \n",
      "11     4820.494790     4246.485974     4439.450840     4684.313807   \n",
      "12     2011.159549     1823.015995     1456.309517     1341.726931   \n",
      "13     3121.760794     3023.096699     3081.694603     3160.454906   \n",
      "14     6068.051350     6351.237495     7404.923685     7121.924704   \n",
      "15     9611.147541     8688.156003     9472.384295     9767.297530   \n",
      "16     3470.338156     2955.984375     2170.151724     2253.023004   \n",
      "17     7009.601598     7034.779161     6618.743050     7113.692252   \n",
      "18     4258.503604     3998.875695     4196.411078     4247.400261   \n",
      "19     6434.501797     6360.943444     4446.380924     5838.347657   \n",
      "20    10330.989150    12281.341910    14641.587110    16999.433300   \n",
      "21     9119.528607     7388.597823     7370.990932     8792.573126   \n",
      "22    25009.559140    29884.350410    32003.932240    35767.433030   \n",
      "23     6920.223051     7452.398969     8137.004775     9230.240708   \n",
      "24    11152.410110     9883.584648    10733.926310    10165.495180   \n",
      "\n",
      "    gdpPercap_2002  gdpPercap_2007  \n",
      "0      8797.640716    12779.379640  \n",
      "1      3413.262690     3822.137084  \n",
      "2      8131.212843     9065.800825  \n",
      "3     33328.965070    36319.235010  \n",
      "4     10778.783850    13171.638850  \n",
      "5      5755.259962     7006.580419  \n",
      "6      7723.447195     9645.061420  \n",
      "7      6340.646683     8948.102923  \n",
      "8      4563.808154     6025.374752  \n",
      "9      5773.044512     6873.262326  \n",
      "10     5351.568666     5728.353514  \n",
      "11     4858.347495     5186.050003  \n",
      "12     1270.364932     1201.637154  \n",
      "13     3099.728660     3548.330846  \n",
      "14     6994.774861     7320.880262  \n",
      "15    10742.440530    11977.574960  \n",
      "16     2474.548819     2749.320965  \n",
      "17     7356.031934     9809.185636  \n",
      "18     3783.674243     4172.838464  \n",
      "19     5909.020073     7408.905561  \n",
      "20    18855.606180    19328.709010  \n",
      "21    11460.600230    18008.509240  \n",
      "22    39097.099550    42951.653090  \n",
      "23     7727.002004    10611.462990  \n",
      "24     8605.047831    11415.805690  \n"
     ]
    }
   ],
   "source": [
    "americas = pandas.read_csv('data/gapminder_gdp_americas.csv')\n",
    "print(americas)"
   ]
  },
  {
   "cell_type": "code",
   "execution_count": 77,
   "metadata": {},
   "outputs": [
    {
     "name": "stdout",
     "output_type": "stream",
     "text": [
      "                    continent  gdpPercap_1952  gdpPercap_1957  gdpPercap_1962  \\\n",
      "country                                                                         \n",
      "Argentina            Americas     5911.315053     6856.856212     7133.166023   \n",
      "Bolivia              Americas     2677.326347     2127.686326     2180.972546   \n",
      "Brazil               Americas     2108.944355     2487.365989     3336.585802   \n",
      "Canada               Americas    11367.161120    12489.950060    13462.485550   \n",
      "Chile                Americas     3939.978789     4315.622723     4519.094331   \n",
      "Colombia             Americas     2144.115096     2323.805581     2492.351109   \n",
      "Costa Rica           Americas     2627.009471     2990.010802     3460.937025   \n",
      "Cuba                 Americas     5586.538780     6092.174359     5180.755910   \n",
      "Dominican Republic   Americas     1397.717137     1544.402995     1662.137359   \n",
      "Ecuador              Americas     3522.110717     3780.546651     4086.114078   \n",
      "El Salvador          Americas     3048.302900     3421.523218     3776.803627   \n",
      "Guatemala            Americas     2428.237769     2617.155967     2750.364446   \n",
      "Haiti                Americas     1840.366939     1726.887882     1796.589032   \n",
      "Honduras             Americas     2194.926204     2220.487682     2291.156835   \n",
      "Jamaica              Americas     2898.530881     4756.525781     5246.107524   \n",
      "Mexico               Americas     3478.125529     4131.546641     4581.609385   \n",
      "Nicaragua            Americas     3112.363948     3457.415947     3634.364406   \n",
      "Panama               Americas     2480.380334     2961.800905     3536.540301   \n",
      "Paraguay             Americas     1952.308701     2046.154706     2148.027146   \n",
      "Peru                 Americas     3758.523437     4245.256698     4957.037982   \n",
      "Puerto Rico          Americas     3081.959785     3907.156189     5108.344630   \n",
      "Trinidad and Tobago  Americas     3023.271928     4100.393400     4997.523971   \n",
      "United States        Americas    13990.482080    14847.127120    16173.145860   \n",
      "Uruguay              Americas     5716.766744     6150.772969     5603.357717   \n",
      "Venezuela            Americas     7689.799761     9802.466526     8422.974165   \n",
      "\n",
      "                     gdpPercap_1967  gdpPercap_1972  gdpPercap_1977  \\\n",
      "country                                                               \n",
      "Argentina               8052.953021     9443.038526    10079.026740   \n",
      "Bolivia                 2586.886053     2980.331339     3548.097832   \n",
      "Brazil                  3429.864357     4985.711467     6660.118654   \n",
      "Canada                 16076.588030    18970.570860    22090.883060   \n",
      "Chile                   5106.654313     5494.024437     4756.763836   \n",
      "Colombia                2678.729839     3264.660041     3815.807870   \n",
      "Costa Rica              4161.727834     5118.146939     5926.876967   \n",
      "Cuba                    5690.268015     5305.445256     6380.494966   \n",
      "Dominican Republic      1653.723003     2189.874499     2681.988900   \n",
      "Ecuador                 4579.074215     5280.994710     6679.623260   \n",
      "El Salvador             4358.595393     4520.246008     5138.922374   \n",
      "Guatemala               3242.531147     4031.408271     4879.992748   \n",
      "Haiti                   1452.057666     1654.456946     1874.298931   \n",
      "Honduras                2538.269358     2529.842345     3203.208066   \n",
      "Jamaica                 6124.703451     7433.889293     6650.195573   \n",
      "Mexico                  5754.733883     6809.406690     7674.929108   \n",
      "Nicaragua               4643.393534     4688.593267     5486.371089   \n",
      "Panama                  4421.009084     5364.249663     5351.912144   \n",
      "Paraguay                2299.376311     2523.337977     3248.373311   \n",
      "Peru                    5788.093330     5937.827283     6281.290855   \n",
      "Puerto Rico             6929.277714     9123.041742     9770.524921   \n",
      "Trinidad and Tobago     5621.368472     6619.551419     7899.554209   \n",
      "United States          19530.365570    21806.035940    24072.632130   \n",
      "Uruguay                 5444.619620     5703.408898     6504.339663   \n",
      "Venezuela               9541.474188    10505.259660    13143.950950   \n",
      "\n",
      "                     gdpPercap_1982  gdpPercap_1987  gdpPercap_1992  \\\n",
      "country                                                               \n",
      "Argentina               8997.897412     9139.671389     9308.418710   \n",
      "Bolivia                 3156.510452     2753.691490     2961.699694   \n",
      "Brazil                  7030.835878     7807.095818     6950.283021   \n",
      "Canada                 22898.792140    26626.515030    26342.884260   \n",
      "Chile                   5095.665738     5547.063754     7596.125964   \n",
      "Colombia                4397.575659     4903.219100     5444.648617   \n",
      "Costa Rica              5262.734751     5629.915318     6160.416317   \n",
      "Cuba                    7316.918107     7532.924763     5592.843963   \n",
      "Dominican Republic      2861.092386     2899.842175     3044.214214   \n",
      "Ecuador                 7213.791267     6481.776993     7103.702595   \n",
      "El Salvador             4098.344175     4140.442097     4444.231700   \n",
      "Guatemala               4820.494790     4246.485974     4439.450840   \n",
      "Haiti                   2011.159549     1823.015995     1456.309517   \n",
      "Honduras                3121.760794     3023.096699     3081.694603   \n",
      "Jamaica                 6068.051350     6351.237495     7404.923685   \n",
      "Mexico                  9611.147541     8688.156003     9472.384295   \n",
      "Nicaragua               3470.338156     2955.984375     2170.151724   \n",
      "Panama                  7009.601598     7034.779161     6618.743050   \n",
      "Paraguay                4258.503604     3998.875695     4196.411078   \n",
      "Peru                    6434.501797     6360.943444     4446.380924   \n",
      "Puerto Rico            10330.989150    12281.341910    14641.587110   \n",
      "Trinidad and Tobago     9119.528607     7388.597823     7370.990932   \n",
      "United States          25009.559140    29884.350410    32003.932240   \n",
      "Uruguay                 6920.223051     7452.398969     8137.004775   \n",
      "Venezuela              11152.410110     9883.584648    10733.926310   \n",
      "\n",
      "                     gdpPercap_1997  gdpPercap_2002  gdpPercap_2007  \n",
      "country                                                              \n",
      "Argentina              10967.281950     8797.640716    12779.379640  \n",
      "Bolivia                 3326.143191     3413.262690     3822.137084  \n",
      "Brazil                  7957.980824     8131.212843     9065.800825  \n",
      "Canada                 28954.925890    33328.965070    36319.235010  \n",
      "Chile                  10118.053180    10778.783850    13171.638850  \n",
      "Colombia                6117.361746     5755.259962     7006.580419  \n",
      "Costa Rica              6677.045314     7723.447195     9645.061420  \n",
      "Cuba                    5431.990415     6340.646683     8948.102923  \n",
      "Dominican Republic      3614.101285     4563.808154     6025.374752  \n",
      "Ecuador                 7429.455877     5773.044512     6873.262326  \n",
      "El Salvador             5154.825496     5351.568666     5728.353514  \n",
      "Guatemala               4684.313807     4858.347495     5186.050003  \n",
      "Haiti                   1341.726931     1270.364932     1201.637154  \n",
      "Honduras                3160.454906     3099.728660     3548.330846  \n",
      "Jamaica                 7121.924704     6994.774861     7320.880262  \n",
      "Mexico                  9767.297530    10742.440530    11977.574960  \n",
      "Nicaragua               2253.023004     2474.548819     2749.320965  \n",
      "Panama                  7113.692252     7356.031934     9809.185636  \n",
      "Paraguay                4247.400261     3783.674243     4172.838464  \n",
      "Peru                    5838.347657     5909.020073     7408.905561  \n",
      "Puerto Rico            16999.433300    18855.606180    19328.709010  \n",
      "Trinidad and Tobago     8792.573126    11460.600230    18008.509240  \n",
      "United States          35767.433030    39097.099550    42951.653090  \n",
      "Uruguay                 9230.240708     7727.002004    10611.462990  \n",
      "Venezuela              10165.495180     8605.047831    11415.805690  \n"
     ]
    }
   ],
   "source": [
    "americas = pandas.read_csv('data/gapminder_gdp_americas.csv', index_col = 'country')  ## make continent into a variable\n",
    "print(americas)"
   ]
  },
  {
   "cell_type": "code",
   "execution_count": 78,
   "metadata": {},
   "outputs": [
    {
     "data": {
      "text/html": [
       "<div>\n",
       "<table border=\"1\" class=\"dataframe\">\n",
       "  <thead>\n",
       "    <tr style=\"text-align: right;\">\n",
       "      <th>country</th>\n",
       "      <th>Argentina</th>\n",
       "      <th>Bolivia</th>\n",
       "      <th>Brazil</th>\n",
       "      <th>Canada</th>\n",
       "      <th>Chile</th>\n",
       "      <th>Colombia</th>\n",
       "      <th>Costa Rica</th>\n",
       "      <th>Cuba</th>\n",
       "      <th>Dominican Republic</th>\n",
       "      <th>Ecuador</th>\n",
       "      <th>...</th>\n",
       "      <th>Mexico</th>\n",
       "      <th>Nicaragua</th>\n",
       "      <th>Panama</th>\n",
       "      <th>Paraguay</th>\n",
       "      <th>Peru</th>\n",
       "      <th>Puerto Rico</th>\n",
       "      <th>Trinidad and Tobago</th>\n",
       "      <th>United States</th>\n",
       "      <th>Uruguay</th>\n",
       "      <th>Venezuela</th>\n",
       "    </tr>\n",
       "  </thead>\n",
       "  <tbody>\n",
       "    <tr>\n",
       "      <th>count</th>\n",
       "      <td>13.00000</td>\n",
       "      <td>13.000000</td>\n",
       "      <td>13.000000</td>\n",
       "      <td>13.00000</td>\n",
       "      <td>13.000000</td>\n",
       "      <td>13.000000</td>\n",
       "      <td>13.000000</td>\n",
       "      <td>13.00000</td>\n",
       "      <td>13.000000</td>\n",
       "      <td>13.000000</td>\n",
       "      <td>...</td>\n",
       "      <td>13.000000</td>\n",
       "      <td>13.000000</td>\n",
       "      <td>13.000000</td>\n",
       "      <td>13.000000</td>\n",
       "      <td>13.000000</td>\n",
       "      <td>13.00000</td>\n",
       "      <td>13.000000</td>\n",
       "      <td>13.00000</td>\n",
       "      <td>13.000000</td>\n",
       "      <td>13.000000</td>\n",
       "    </tr>\n",
       "    <tr>\n",
       "      <th>unique</th>\n",
       "      <td>13.00000</td>\n",
       "      <td>13.000000</td>\n",
       "      <td>13.000000</td>\n",
       "      <td>13.00000</td>\n",
       "      <td>13.000000</td>\n",
       "      <td>13.000000</td>\n",
       "      <td>13.000000</td>\n",
       "      <td>13.00000</td>\n",
       "      <td>13.000000</td>\n",
       "      <td>13.000000</td>\n",
       "      <td>...</td>\n",
       "      <td>13.000000</td>\n",
       "      <td>13.000000</td>\n",
       "      <td>13.000000</td>\n",
       "      <td>13.000000</td>\n",
       "      <td>13.000000</td>\n",
       "      <td>13.00000</td>\n",
       "      <td>13.000000</td>\n",
       "      <td>13.00000</td>\n",
       "      <td>13.000000</td>\n",
       "      <td>13.000000</td>\n",
       "    </tr>\n",
       "    <tr>\n",
       "      <th>top</th>\n",
       "      <td>10079.02674</td>\n",
       "      <td>3326.143191</td>\n",
       "      <td>7807.095818</td>\n",
       "      <td>36319.23501</td>\n",
       "      <td>4315.622723</td>\n",
       "      <td>7006.580419</td>\n",
       "      <td>5118.146939</td>\n",
       "      <td>5180.75591</td>\n",
       "      <td>3614.101285</td>\n",
       "      <td>7103.702595</td>\n",
       "      <td>...</td>\n",
       "      <td>7674.929108</td>\n",
       "      <td>2749.320965</td>\n",
       "      <td>7356.031934</td>\n",
       "      <td>3998.875695</td>\n",
       "      <td>4446.380924</td>\n",
       "      <td>10330.98915</td>\n",
       "      <td>9119.528607</td>\n",
       "      <td>14847.12712</td>\n",
       "      <td>7452.398969</td>\n",
       "      <td>8605.047831</td>\n",
       "    </tr>\n",
       "    <tr>\n",
       "      <th>freq</th>\n",
       "      <td>1.00000</td>\n",
       "      <td>1.000000</td>\n",
       "      <td>1.000000</td>\n",
       "      <td>1.00000</td>\n",
       "      <td>1.000000</td>\n",
       "      <td>1.000000</td>\n",
       "      <td>1.000000</td>\n",
       "      <td>1.00000</td>\n",
       "      <td>1.000000</td>\n",
       "      <td>1.000000</td>\n",
       "      <td>...</td>\n",
       "      <td>1.000000</td>\n",
       "      <td>1.000000</td>\n",
       "      <td>1.000000</td>\n",
       "      <td>1.000000</td>\n",
       "      <td>1.000000</td>\n",
       "      <td>1.00000</td>\n",
       "      <td>1.000000</td>\n",
       "      <td>1.00000</td>\n",
       "      <td>1.000000</td>\n",
       "      <td>1.000000</td>\n",
       "    </tr>\n",
       "  </tbody>\n",
       "</table>\n",
       "<p>4 rows × 25 columns</p>\n",
       "</div>"
      ],
      "text/plain": [
       "country    Argentina      Bolivia       Brazil       Canada        Chile  \\\n",
       "count       13.00000    13.000000    13.000000     13.00000    13.000000   \n",
       "unique      13.00000    13.000000    13.000000     13.00000    13.000000   \n",
       "top      10079.02674  3326.143191  7807.095818  36319.23501  4315.622723   \n",
       "freq         1.00000     1.000000     1.000000      1.00000     1.000000   \n",
       "\n",
       "country     Colombia   Costa Rica        Cuba  Dominican Republic  \\\n",
       "count      13.000000    13.000000    13.00000           13.000000   \n",
       "unique     13.000000    13.000000    13.00000           13.000000   \n",
       "top      7006.580419  5118.146939  5180.75591         3614.101285   \n",
       "freq        1.000000     1.000000     1.00000            1.000000   \n",
       "\n",
       "country      Ecuador     ...            Mexico    Nicaragua       Panama  \\\n",
       "count      13.000000     ...         13.000000    13.000000    13.000000   \n",
       "unique     13.000000     ...         13.000000    13.000000    13.000000   \n",
       "top      7103.702595     ...       7674.929108  2749.320965  7356.031934   \n",
       "freq        1.000000     ...          1.000000     1.000000     1.000000   \n",
       "\n",
       "country     Paraguay         Peru  Puerto Rico  Trinidad and Tobago  \\\n",
       "count      13.000000    13.000000     13.00000            13.000000   \n",
       "unique     13.000000    13.000000     13.00000            13.000000   \n",
       "top      3998.875695  4446.380924  10330.98915          9119.528607   \n",
       "freq        1.000000     1.000000      1.00000             1.000000   \n",
       "\n",
       "country  United States      Uruguay    Venezuela  \n",
       "count         13.00000    13.000000    13.000000  \n",
       "unique        13.00000    13.000000    13.000000  \n",
       "top        14847.12712  7452.398969  8605.047831  \n",
       "freq           1.00000     1.000000     1.000000  \n",
       "\n",
       "[4 rows x 25 columns]"
      ]
     },
     "execution_count": 78,
     "metadata": {},
     "output_type": "execute_result"
    }
   ],
   "source": [
    "americas.T.describe()"
   ]
  },
  {
   "cell_type": "code",
   "execution_count": 79,
   "metadata": {},
   "outputs": [
    {
     "data": {
      "text/html": [
       "<div>\n",
       "<table border=\"1\" class=\"dataframe\">\n",
       "  <thead>\n",
       "    <tr style=\"text-align: right;\">\n",
       "      <th></th>\n",
       "      <th>continent</th>\n",
       "      <th>gdpPercap_1952</th>\n",
       "      <th>gdpPercap_1957</th>\n",
       "      <th>gdpPercap_1962</th>\n",
       "      <th>gdpPercap_1967</th>\n",
       "      <th>gdpPercap_1972</th>\n",
       "      <th>gdpPercap_1977</th>\n",
       "      <th>gdpPercap_1982</th>\n",
       "      <th>gdpPercap_1987</th>\n",
       "      <th>gdpPercap_1992</th>\n",
       "      <th>gdpPercap_1997</th>\n",
       "      <th>gdpPercap_2002</th>\n",
       "      <th>gdpPercap_2007</th>\n",
       "    </tr>\n",
       "    <tr>\n",
       "      <th>country</th>\n",
       "      <th></th>\n",
       "      <th></th>\n",
       "      <th></th>\n",
       "      <th></th>\n",
       "      <th></th>\n",
       "      <th></th>\n",
       "      <th></th>\n",
       "      <th></th>\n",
       "      <th></th>\n",
       "      <th></th>\n",
       "      <th></th>\n",
       "      <th></th>\n",
       "      <th></th>\n",
       "    </tr>\n",
       "  </thead>\n",
       "  <tbody>\n",
       "    <tr>\n",
       "      <th>Argentina</th>\n",
       "      <td>Americas</td>\n",
       "      <td>5911.315053</td>\n",
       "      <td>6856.856212</td>\n",
       "      <td>7133.166023</td>\n",
       "      <td>8052.953021</td>\n",
       "      <td>9443.038526</td>\n",
       "      <td>10079.026740</td>\n",
       "      <td>8997.897412</td>\n",
       "      <td>9139.671389</td>\n",
       "      <td>9308.418710</td>\n",
       "      <td>10967.281950</td>\n",
       "      <td>8797.640716</td>\n",
       "      <td>12779.379640</td>\n",
       "    </tr>\n",
       "    <tr>\n",
       "      <th>Bolivia</th>\n",
       "      <td>Americas</td>\n",
       "      <td>2677.326347</td>\n",
       "      <td>2127.686326</td>\n",
       "      <td>2180.972546</td>\n",
       "      <td>2586.886053</td>\n",
       "      <td>2980.331339</td>\n",
       "      <td>3548.097832</td>\n",
       "      <td>3156.510452</td>\n",
       "      <td>2753.691490</td>\n",
       "      <td>2961.699694</td>\n",
       "      <td>3326.143191</td>\n",
       "      <td>3413.262690</td>\n",
       "      <td>3822.137084</td>\n",
       "    </tr>\n",
       "    <tr>\n",
       "      <th>Brazil</th>\n",
       "      <td>Americas</td>\n",
       "      <td>2108.944355</td>\n",
       "      <td>2487.365989</td>\n",
       "      <td>3336.585802</td>\n",
       "      <td>3429.864357</td>\n",
       "      <td>4985.711467</td>\n",
       "      <td>6660.118654</td>\n",
       "      <td>7030.835878</td>\n",
       "      <td>7807.095818</td>\n",
       "      <td>6950.283021</td>\n",
       "      <td>7957.980824</td>\n",
       "      <td>8131.212843</td>\n",
       "      <td>9065.800825</td>\n",
       "    </tr>\n",
       "  </tbody>\n",
       "</table>\n",
       "</div>"
      ],
      "text/plain": [
       "          continent  gdpPercap_1952  gdpPercap_1957  gdpPercap_1962  \\\n",
       "country                                                               \n",
       "Argentina  Americas     5911.315053     6856.856212     7133.166023   \n",
       "Bolivia    Americas     2677.326347     2127.686326     2180.972546   \n",
       "Brazil     Americas     2108.944355     2487.365989     3336.585802   \n",
       "\n",
       "           gdpPercap_1967  gdpPercap_1972  gdpPercap_1977  gdpPercap_1982  \\\n",
       "country                                                                     \n",
       "Argentina     8052.953021     9443.038526    10079.026740     8997.897412   \n",
       "Bolivia       2586.886053     2980.331339     3548.097832     3156.510452   \n",
       "Brazil        3429.864357     4985.711467     6660.118654     7030.835878   \n",
       "\n",
       "           gdpPercap_1987  gdpPercap_1992  gdpPercap_1997  gdpPercap_2002  \\\n",
       "country                                                                     \n",
       "Argentina     9139.671389     9308.418710    10967.281950     8797.640716   \n",
       "Bolivia       2753.691490     2961.699694     3326.143191     3413.262690   \n",
       "Brazil        7807.095818     6950.283021     7957.980824     8131.212843   \n",
       "\n",
       "           gdpPercap_2007  \n",
       "country                    \n",
       "Argentina    12779.379640  \n",
       "Bolivia       3822.137084  \n",
       "Brazil        9065.800825  "
      ]
     },
     "execution_count": 79,
     "metadata": {},
     "output_type": "execute_result"
    }
   ],
   "source": [
    "americas.head(3)   ## show first 3 rows"
   ]
  },
  {
   "cell_type": "code",
   "execution_count": 80,
   "metadata": {},
   "outputs": [
    {
     "data": {
      "text/html": [
       "<div>\n",
       "<table border=\"1\" class=\"dataframe\">\n",
       "  <thead>\n",
       "    <tr style=\"text-align: right;\">\n",
       "      <th>country</th>\n",
       "      <th>Argentina</th>\n",
       "      <th>Bolivia</th>\n",
       "      <th>Brazil</th>\n",
       "      <th>Canada</th>\n",
       "      <th>Chile</th>\n",
       "      <th>Colombia</th>\n",
       "      <th>Costa Rica</th>\n",
       "      <th>Cuba</th>\n",
       "      <th>Dominican Republic</th>\n",
       "      <th>Ecuador</th>\n",
       "      <th>...</th>\n",
       "      <th>Mexico</th>\n",
       "      <th>Nicaragua</th>\n",
       "      <th>Panama</th>\n",
       "      <th>Paraguay</th>\n",
       "      <th>Peru</th>\n",
       "      <th>Puerto Rico</th>\n",
       "      <th>Trinidad and Tobago</th>\n",
       "      <th>United States</th>\n",
       "      <th>Uruguay</th>\n",
       "      <th>Venezuela</th>\n",
       "    </tr>\n",
       "  </thead>\n",
       "  <tbody>\n",
       "    <tr>\n",
       "      <th>gdpPercap_1997</th>\n",
       "      <td>10967.3</td>\n",
       "      <td>3326.14</td>\n",
       "      <td>7957.98</td>\n",
       "      <td>28954.9</td>\n",
       "      <td>10118.1</td>\n",
       "      <td>6117.36</td>\n",
       "      <td>6677.05</td>\n",
       "      <td>5431.99</td>\n",
       "      <td>3614.1</td>\n",
       "      <td>7429.46</td>\n",
       "      <td>...</td>\n",
       "      <td>9767.3</td>\n",
       "      <td>2253.02</td>\n",
       "      <td>7113.69</td>\n",
       "      <td>4247.4</td>\n",
       "      <td>5838.35</td>\n",
       "      <td>16999.4</td>\n",
       "      <td>8792.57</td>\n",
       "      <td>35767.4</td>\n",
       "      <td>9230.24</td>\n",
       "      <td>10165.5</td>\n",
       "    </tr>\n",
       "    <tr>\n",
       "      <th>gdpPercap_2002</th>\n",
       "      <td>8797.64</td>\n",
       "      <td>3413.26</td>\n",
       "      <td>8131.21</td>\n",
       "      <td>33329</td>\n",
       "      <td>10778.8</td>\n",
       "      <td>5755.26</td>\n",
       "      <td>7723.45</td>\n",
       "      <td>6340.65</td>\n",
       "      <td>4563.81</td>\n",
       "      <td>5773.04</td>\n",
       "      <td>...</td>\n",
       "      <td>10742.4</td>\n",
       "      <td>2474.55</td>\n",
       "      <td>7356.03</td>\n",
       "      <td>3783.67</td>\n",
       "      <td>5909.02</td>\n",
       "      <td>18855.6</td>\n",
       "      <td>11460.6</td>\n",
       "      <td>39097.1</td>\n",
       "      <td>7727</td>\n",
       "      <td>8605.05</td>\n",
       "    </tr>\n",
       "    <tr>\n",
       "      <th>gdpPercap_2007</th>\n",
       "      <td>12779.4</td>\n",
       "      <td>3822.14</td>\n",
       "      <td>9065.8</td>\n",
       "      <td>36319.2</td>\n",
       "      <td>13171.6</td>\n",
       "      <td>7006.58</td>\n",
       "      <td>9645.06</td>\n",
       "      <td>8948.1</td>\n",
       "      <td>6025.37</td>\n",
       "      <td>6873.26</td>\n",
       "      <td>...</td>\n",
       "      <td>11977.6</td>\n",
       "      <td>2749.32</td>\n",
       "      <td>9809.19</td>\n",
       "      <td>4172.84</td>\n",
       "      <td>7408.91</td>\n",
       "      <td>19328.7</td>\n",
       "      <td>18008.5</td>\n",
       "      <td>42951.7</td>\n",
       "      <td>10611.5</td>\n",
       "      <td>11415.8</td>\n",
       "    </tr>\n",
       "  </tbody>\n",
       "</table>\n",
       "<p>3 rows × 25 columns</p>\n",
       "</div>"
      ],
      "text/plain": [
       "country        Argentina  Bolivia   Brazil   Canada    Chile Colombia  \\\n",
       "gdpPercap_1997   10967.3  3326.14  7957.98  28954.9  10118.1  6117.36   \n",
       "gdpPercap_2002   8797.64  3413.26  8131.21    33329  10778.8  5755.26   \n",
       "gdpPercap_2007   12779.4  3822.14   9065.8  36319.2  13171.6  7006.58   \n",
       "\n",
       "country        Costa Rica     Cuba Dominican Republic  Ecuador    ...     \\\n",
       "gdpPercap_1997    6677.05  5431.99             3614.1  7429.46    ...      \n",
       "gdpPercap_2002    7723.45  6340.65            4563.81  5773.04    ...      \n",
       "gdpPercap_2007    9645.06   8948.1            6025.37  6873.26    ...      \n",
       "\n",
       "country          Mexico Nicaragua   Panama Paraguay     Peru Puerto Rico  \\\n",
       "gdpPercap_1997   9767.3   2253.02  7113.69   4247.4  5838.35     16999.4   \n",
       "gdpPercap_2002  10742.4   2474.55  7356.03  3783.67  5909.02     18855.6   \n",
       "gdpPercap_2007  11977.6   2749.32  9809.19  4172.84  7408.91     19328.7   \n",
       "\n",
       "country        Trinidad and Tobago United States  Uruguay Venezuela  \n",
       "gdpPercap_1997             8792.57       35767.4  9230.24   10165.5  \n",
       "gdpPercap_2002             11460.6       39097.1     7727   8605.05  \n",
       "gdpPercap_2007             18008.5       42951.7  10611.5   11415.8  \n",
       "\n",
       "[3 rows x 25 columns]"
      ]
     },
     "execution_count": 80,
     "metadata": {},
     "output_type": "execute_result"
    }
   ],
   "source": [
    "americas.T.tail(3)"
   ]
  },
  {
   "cell_type": "code",
   "execution_count": 69,
   "metadata": {},
   "outputs": [
    {
     "ename": "NameError",
     "evalue": "name 'pandras' is not defined",
     "output_type": "error",
     "traceback": [
      "\u001b[0;31m---------------------------------------------------------------------------\u001b[0m",
      "\u001b[0;31mNameError\u001b[0m                                 Traceback (most recent call last)",
      "\u001b[0;32m<ipython-input-69-8cfce2479627>\u001b[0m in \u001b[0;36m<module>\u001b[0;34m()\u001b[0m\n\u001b[0;32m----> 1\u001b[0;31m \u001b[0mhelp\u001b[0m\u001b[0;34m(\u001b[0m\u001b[0mpandras\u001b[0m\u001b[0;34m.\u001b[0m\u001b[0mto_csv\u001b[0m\u001b[0;34m)\u001b[0m\u001b[0;34m\u001b[0m\u001b[0m\n\u001b[0m",
      "\u001b[0;31mNameError\u001b[0m: name 'pandras' is not defined"
     ]
    }
   ],
   "source": [
    "help(pandras.to_csv)"
   ]
  },
  {
   "cell_type": "code",
   "execution_count": 81,
   "metadata": {},
   "outputs": [],
   "source": [
    "americas.to_csv('data/processed.csv')"
   ]
  },
  {
   "cell_type": "code",
   "execution_count": 75,
   "metadata": {},
   "outputs": [
    {
     "name": "stdout",
     "output_type": "stream",
     "text": [
      "gapminder_all.csv           gapminder_gdp_europe.csv\r\n",
      "gapminder_gdp_africa.csv    gapminder_gdp_oceania.csv\r\n",
      "gapminder_gdp_americas.csv  processed.csv\r\n",
      "gapminder_gdp_asia.csv\r\n"
     ]
    }
   ],
   "source": [
    "ls data"
   ]
  },
  {
   "cell_type": "code",
   "execution_count": 82,
   "metadata": {},
   "outputs": [
    {
     "data": {
      "text/html": [
       "<div>\n",
       "<table border=\"1\" class=\"dataframe\">\n",
       "  <thead>\n",
       "    <tr style=\"text-align: right;\">\n",
       "      <th></th>\n",
       "      <th>gdpPercap_1952</th>\n",
       "      <th>gdpPercap_1957</th>\n",
       "      <th>gdpPercap_1962</th>\n",
       "      <th>gdpPercap_1967</th>\n",
       "      <th>gdpPercap_1972</th>\n",
       "      <th>gdpPercap_1977</th>\n",
       "      <th>gdpPercap_1982</th>\n",
       "      <th>gdpPercap_1987</th>\n",
       "      <th>gdpPercap_1992</th>\n",
       "      <th>gdpPercap_1997</th>\n",
       "      <th>gdpPercap_2002</th>\n",
       "      <th>gdpPercap_2007</th>\n",
       "    </tr>\n",
       "  </thead>\n",
       "  <tbody>\n",
       "    <tr>\n",
       "      <th>count</th>\n",
       "      <td>25.000000</td>\n",
       "      <td>25.000000</td>\n",
       "      <td>25.000000</td>\n",
       "      <td>25.000000</td>\n",
       "      <td>25.000000</td>\n",
       "      <td>25.000000</td>\n",
       "      <td>25.000000</td>\n",
       "      <td>25.000000</td>\n",
       "      <td>25.000000</td>\n",
       "      <td>25.000000</td>\n",
       "      <td>25.000000</td>\n",
       "      <td>25.000000</td>\n",
       "    </tr>\n",
       "    <tr>\n",
       "      <th>mean</th>\n",
       "      <td>4079.062552</td>\n",
       "      <td>4616.043733</td>\n",
       "      <td>4901.541870</td>\n",
       "      <td>5668.253496</td>\n",
       "      <td>6491.334139</td>\n",
       "      <td>7352.007126</td>\n",
       "      <td>7506.737088</td>\n",
       "      <td>7793.400261</td>\n",
       "      <td>8044.934406</td>\n",
       "      <td>8889.300863</td>\n",
       "      <td>9287.677107</td>\n",
       "      <td>11003.031625</td>\n",
       "    </tr>\n",
       "    <tr>\n",
       "      <th>std</th>\n",
       "      <td>3001.727522</td>\n",
       "      <td>3312.381083</td>\n",
       "      <td>3421.740569</td>\n",
       "      <td>4160.885560</td>\n",
       "      <td>4754.404329</td>\n",
       "      <td>5355.602518</td>\n",
       "      <td>5530.490471</td>\n",
       "      <td>6665.039509</td>\n",
       "      <td>7047.089191</td>\n",
       "      <td>7874.225145</td>\n",
       "      <td>8895.817785</td>\n",
       "      <td>9713.209302</td>\n",
       "    </tr>\n",
       "    <tr>\n",
       "      <th>min</th>\n",
       "      <td>1397.717137</td>\n",
       "      <td>1544.402995</td>\n",
       "      <td>1662.137359</td>\n",
       "      <td>1452.057666</td>\n",
       "      <td>1654.456946</td>\n",
       "      <td>1874.298931</td>\n",
       "      <td>2011.159549</td>\n",
       "      <td>1823.015995</td>\n",
       "      <td>1456.309517</td>\n",
       "      <td>1341.726931</td>\n",
       "      <td>1270.364932</td>\n",
       "      <td>1201.637154</td>\n",
       "    </tr>\n",
       "    <tr>\n",
       "      <th>25%</th>\n",
       "      <td>2428.237769</td>\n",
       "      <td>2487.365989</td>\n",
       "      <td>2750.364446</td>\n",
       "      <td>3242.531147</td>\n",
       "      <td>4031.408271</td>\n",
       "      <td>4756.763836</td>\n",
       "      <td>4258.503604</td>\n",
       "      <td>4140.442097</td>\n",
       "      <td>4439.450840</td>\n",
       "      <td>4684.313807</td>\n",
       "      <td>4858.347495</td>\n",
       "      <td>5728.353514</td>\n",
       "    </tr>\n",
       "    <tr>\n",
       "      <th>50%</th>\n",
       "      <td>3048.302900</td>\n",
       "      <td>3780.546651</td>\n",
       "      <td>4086.114078</td>\n",
       "      <td>4643.393534</td>\n",
       "      <td>5305.445256</td>\n",
       "      <td>6281.290855</td>\n",
       "      <td>6434.501797</td>\n",
       "      <td>6360.943444</td>\n",
       "      <td>6618.743050</td>\n",
       "      <td>7113.692252</td>\n",
       "      <td>6994.774861</td>\n",
       "      <td>8948.102923</td>\n",
       "    </tr>\n",
       "    <tr>\n",
       "      <th>75%</th>\n",
       "      <td>3939.978789</td>\n",
       "      <td>4756.525781</td>\n",
       "      <td>5180.755910</td>\n",
       "      <td>5788.093330</td>\n",
       "      <td>6809.406690</td>\n",
       "      <td>7674.929108</td>\n",
       "      <td>8997.897412</td>\n",
       "      <td>7807.095818</td>\n",
       "      <td>8137.004775</td>\n",
       "      <td>9767.297530</td>\n",
       "      <td>8797.640716</td>\n",
       "      <td>11977.574960</td>\n",
       "    </tr>\n",
       "    <tr>\n",
       "      <th>max</th>\n",
       "      <td>13990.482080</td>\n",
       "      <td>14847.127120</td>\n",
       "      <td>16173.145860</td>\n",
       "      <td>19530.365570</td>\n",
       "      <td>21806.035940</td>\n",
       "      <td>24072.632130</td>\n",
       "      <td>25009.559140</td>\n",
       "      <td>29884.350410</td>\n",
       "      <td>32003.932240</td>\n",
       "      <td>35767.433030</td>\n",
       "      <td>39097.099550</td>\n",
       "      <td>42951.653090</td>\n",
       "    </tr>\n",
       "  </tbody>\n",
       "</table>\n",
       "</div>"
      ],
      "text/plain": [
       "       gdpPercap_1952  gdpPercap_1957  gdpPercap_1962  gdpPercap_1967  \\\n",
       "count       25.000000       25.000000       25.000000       25.000000   \n",
       "mean      4079.062552     4616.043733     4901.541870     5668.253496   \n",
       "std       3001.727522     3312.381083     3421.740569     4160.885560   \n",
       "min       1397.717137     1544.402995     1662.137359     1452.057666   \n",
       "25%       2428.237769     2487.365989     2750.364446     3242.531147   \n",
       "50%       3048.302900     3780.546651     4086.114078     4643.393534   \n",
       "75%       3939.978789     4756.525781     5180.755910     5788.093330   \n",
       "max      13990.482080    14847.127120    16173.145860    19530.365570   \n",
       "\n",
       "       gdpPercap_1972  gdpPercap_1977  gdpPercap_1982  gdpPercap_1987  \\\n",
       "count       25.000000       25.000000       25.000000       25.000000   \n",
       "mean      6491.334139     7352.007126     7506.737088     7793.400261   \n",
       "std       4754.404329     5355.602518     5530.490471     6665.039509   \n",
       "min       1654.456946     1874.298931     2011.159549     1823.015995   \n",
       "25%       4031.408271     4756.763836     4258.503604     4140.442097   \n",
       "50%       5305.445256     6281.290855     6434.501797     6360.943444   \n",
       "75%       6809.406690     7674.929108     8997.897412     7807.095818   \n",
       "max      21806.035940    24072.632130    25009.559140    29884.350410   \n",
       "\n",
       "       gdpPercap_1992  gdpPercap_1997  gdpPercap_2002  gdpPercap_2007  \n",
       "count       25.000000       25.000000       25.000000       25.000000  \n",
       "mean      8044.934406     8889.300863     9287.677107    11003.031625  \n",
       "std       7047.089191     7874.225145     8895.817785     9713.209302  \n",
       "min       1456.309517     1341.726931     1270.364932     1201.637154  \n",
       "25%       4439.450840     4684.313807     4858.347495     5728.353514  \n",
       "50%       6618.743050     7113.692252     6994.774861     8948.102923  \n",
       "75%       8137.004775     9767.297530     8797.640716    11977.574960  \n",
       "max      32003.932240    35767.433030    39097.099550    42951.653090  "
      ]
     },
     "execution_count": 82,
     "metadata": {},
     "output_type": "execute_result"
    }
   ],
   "source": [
    "americas.describe()"
   ]
  },
  {
   "cell_type": "code",
   "execution_count": 83,
   "metadata": {},
   "outputs": [
    {
     "name": "stdout",
     "output_type": "stream",
     "text": [
      "                        gdpPercap_1952  gdpPercap_1957  gdpPercap_1962  \\\n",
      "country                                                                  \n",
      "Albania                    1601.056136     1942.284244     2312.888958   \n",
      "Austria                    6137.076492     8842.598030    10750.721110   \n",
      "Belgium                    8343.105127     9714.960623    10991.206760   \n",
      "Bosnia and Herzegovina      973.533195     1353.989176     1709.683679   \n",
      "Bulgaria                   2444.286648     3008.670727     4254.337839   \n",
      "Croatia                    3119.236520     4338.231617     5477.890018   \n",
      "Czech Republic             6876.140250     8256.343918    10136.867130   \n",
      "Denmark                    9692.385245    11099.659350    13583.313510   \n",
      "Finland                    6424.519071     7545.415386     9371.842561   \n",
      "France                     7029.809327     8662.834898    10560.485530   \n",
      "Germany                    7144.114393    10187.826650    12902.462910   \n",
      "Greece                     3530.690067     4916.299889     6017.190733   \n",
      "Hungary                    5263.673816     6040.180011     7550.359877   \n",
      "Iceland                    7267.688428     9244.001412    10350.159060   \n",
      "Ireland                    5210.280328     5599.077872     6631.597314   \n",
      "Italy                      4931.404155     6248.656232     8243.582340   \n",
      "Montenegro                 2647.585601     3682.259903     4649.593785   \n",
      "Netherlands                8941.571858    11276.193440    12790.849560   \n",
      "Norway                    10095.421720    11653.973040    13450.401510   \n",
      "Poland                     4029.329699     4734.253019     5338.752143   \n",
      "Portugal                   3068.319867     3774.571743     4727.954889   \n",
      "Romania                    3144.613186     3943.370225     4734.997586   \n",
      "Serbia                     3581.459448     4981.090891     6289.629157   \n",
      "Slovak Republic            5074.659104     6093.262980     7481.107598   \n",
      "Slovenia                   4215.041741     5862.276629     7402.303395   \n",
      "Spain                      3834.034742     4564.802410     5693.843879   \n",
      "Sweden                     8527.844662     9911.878226    12329.441920   \n",
      "Switzerland               14734.232750    17909.489730    20431.092700   \n",
      "Turkey                     1969.100980     2218.754257     2322.869908   \n",
      "United Kingdom             9979.508487    11283.177950    12477.177070   \n",
      "\n",
      "                        gdpPercap_1967  gdpPercap_1972  gdpPercap_1977  \\\n",
      "country                                                                  \n",
      "Albania                    2760.196931     3313.422188     3533.003910   \n",
      "Austria                   12834.602400    16661.625600    19749.422300   \n",
      "Belgium                   13149.041190    16672.143560    19117.974480   \n",
      "Bosnia and Herzegovina     2172.352423     2860.169750     3528.481305   \n",
      "Bulgaria                   5577.002800     6597.494398     7612.240438   \n",
      "Croatia                    6960.297861     9164.090127    11305.385170   \n",
      "Czech Republic            11399.444890    13108.453600    14800.160620   \n",
      "Denmark                   15937.211230    18866.207210    20422.901500   \n",
      "Finland                   10921.636260    14358.875900    15605.422830   \n",
      "France                    12999.917660    16107.191710    18292.635140   \n",
      "Germany                   14745.625610    18016.180270    20512.921230   \n",
      "Greece                     8513.097016    12724.829570    14195.524280   \n",
      "Hungary                    9326.644670    10168.656110    11674.837370   \n",
      "Iceland                   13319.895680    15798.063620    19654.962470   \n",
      "Ireland                    7655.568963     9530.772896    11150.981130   \n",
      "Italy                     10022.401310    12269.273780    14255.984750   \n",
      "Montenegro                 5907.850937     7778.414017     9595.929905   \n",
      "Netherlands               15363.251360    18794.745670    21209.059200   \n",
      "Norway                    16361.876470    18965.055510    23311.349390   \n",
      "Poland                     6557.152776     8006.506993     9508.141454   \n",
      "Portugal                   6361.517993     9022.247417    10172.485720   \n",
      "Romania                    6470.866545     8011.414402     9356.397240   \n",
      "Serbia                     7991.707066    10522.067490    12980.669560   \n",
      "Slovak Republic            8412.902397     9674.167626    10922.664040   \n",
      "Slovenia                   9405.489397    12383.486200    15277.030170   \n",
      "Spain                      7993.512294    10638.751310    13236.921170   \n",
      "Sweden                    15258.296970    17832.024640    18855.725210   \n",
      "Switzerland               22966.144320    27195.113040    26982.290520   \n",
      "Turkey                     2826.356387     3450.696380     4269.122326   \n",
      "United Kingdom            14142.850890    15895.116410    17428.748460   \n",
      "\n",
      "                        gdpPercap_1982  gdpPercap_1987  gdpPercap_1992  \\\n",
      "country                                                                  \n",
      "Albania                    3630.880722     3738.932735     2497.437901   \n",
      "Austria                   21597.083620    23687.826070    27042.018680   \n",
      "Belgium                   20979.845890    22525.563080    25575.570690   \n",
      "Bosnia and Herzegovina     4126.613157     4314.114757     2546.781445   \n",
      "Bulgaria                   8224.191647     8239.854824     6302.623438   \n",
      "Croatia                   13221.821840    13822.583940     8447.794873   \n",
      "Czech Republic            15377.228550    16310.443400    14297.021220   \n",
      "Denmark                   21688.040480    25116.175810    26406.739850   \n",
      "Finland                   18533.157610    21141.012230    20647.164990   \n",
      "France                    20293.897460    22066.442140    24703.796150   \n",
      "Germany                   22031.532740    24639.185660    26505.303170   \n",
      "Greece                    15268.420890    16120.528390    17541.496340   \n",
      "Hungary                   12545.990660    12986.479980    10535.628550   \n",
      "Iceland                   23269.607500    26923.206280    25144.392010   \n",
      "Ireland                   12618.321410    13872.866520    17558.815550   \n",
      "Italy                     16537.483500    19207.234820    22013.644860   \n",
      "Montenegro                11222.587620    11732.510170     7003.339037   \n",
      "Netherlands               21399.460460    23651.323610    26790.949610   \n",
      "Norway                    26298.635310    31540.974800    33965.661150   \n",
      "Poland                     8451.531004     9082.351172     7738.881247   \n",
      "Portugal                  11753.842910    13039.308760    16207.266630   \n",
      "Romania                    9605.314053     9696.273295     6598.409903   \n",
      "Serbia                    15181.092700    15870.878510     9325.068238   \n",
      "Slovak Republic           11348.545850    12037.267580     9498.467723   \n",
      "Slovenia                  17866.721750    18678.534920    14214.716810   \n",
      "Spain                     13926.169970    15764.983130    18603.064520   \n",
      "Sweden                    20667.381250    23586.929270    23880.016830   \n",
      "Switzerland               28397.715120    30281.704590    31871.530300   \n",
      "Turkey                     4241.356344     5089.043686     5678.348271   \n",
      "United Kingdom            18232.424520    21664.787670    22705.092540   \n",
      "\n",
      "                        gdpPercap_1997  gdpPercap_2002  gdpPercap_2007  \n",
      "country                                                                 \n",
      "Albania                    3193.054604     4604.211737     5937.029526  \n",
      "Austria                   29095.920660    32417.607690    36126.492700  \n",
      "Belgium                   27561.196630    30485.883750    33692.605080  \n",
      "Bosnia and Herzegovina     4766.355904     6018.975239     7446.298803  \n",
      "Bulgaria                   5970.388760     7696.777725    10680.792820  \n",
      "Croatia                    9875.604515    11628.388950    14619.222720  \n",
      "Czech Republic            16048.514240    17596.210220    22833.308510  \n",
      "Denmark                   29804.345670    32166.500060    35278.418740  \n",
      "Finland                   23723.950200    28204.590570    33207.084400  \n",
      "France                    25889.784870    28926.032340    30470.016700  \n",
      "Germany                   27788.884160    30035.801980    32170.374420  \n",
      "Greece                    18747.698140    22514.254800    27538.411880  \n",
      "Hungary                   11712.776800    14843.935560    18008.944440  \n",
      "Iceland                   28061.099660    31163.201960    36180.789190  \n",
      "Ireland                   24521.947130    34077.049390    40675.996350  \n",
      "Italy                     24675.024460    27968.098170    28569.719700  \n",
      "Montenegro                 6465.613349     6557.194282     9253.896111  \n",
      "Netherlands               30246.130630    33724.757780    36797.933320  \n",
      "Norway                    41283.164330    44683.975250    49357.190170  \n",
      "Poland                    10159.583680    12002.239080    15389.924680  \n",
      "Portugal                  17641.031560    19970.907870    20509.647770  \n",
      "Romania                    7346.547557     7885.360081    10808.475610  \n",
      "Serbia                     7914.320304     7236.075251     9786.534714  \n",
      "Slovak Republic           12126.230650    13638.778370    18678.314350  \n",
      "Slovenia                  17161.107350    20660.019360    25768.257590  \n",
      "Spain                     20445.298960    24835.471660    28821.063700  \n",
      "Sweden                    25266.594990    29341.630930    33859.748350  \n",
      "Switzerland               32135.323010    34480.957710    37506.419070  \n",
      "Turkey                     6601.429915     6508.085718     8458.276384  \n",
      "United Kingdom            26074.531360    29478.999190    33203.261280  \n"
     ]
    }
   ],
   "source": [
    "europe = pandas.read_csv('data/gapminder_gdp_europe.csv', index_col = 'country')  ## make continent into a variable\n",
    "print(europe)"
   ]
  },
  {
   "cell_type": "code",
   "execution_count": 84,
   "metadata": {},
   "outputs": [
    {
     "data": {
      "text/html": [
       "<div>\n",
       "<table border=\"1\" class=\"dataframe\">\n",
       "  <thead>\n",
       "    <tr style=\"text-align: right;\">\n",
       "      <th></th>\n",
       "      <th>gdpPercap_1952</th>\n",
       "      <th>gdpPercap_1957</th>\n",
       "      <th>gdpPercap_1962</th>\n",
       "      <th>gdpPercap_1967</th>\n",
       "      <th>gdpPercap_1972</th>\n",
       "      <th>gdpPercap_1977</th>\n",
       "      <th>gdpPercap_1982</th>\n",
       "      <th>gdpPercap_1987</th>\n",
       "      <th>gdpPercap_1992</th>\n",
       "      <th>gdpPercap_1997</th>\n",
       "      <th>gdpPercap_2002</th>\n",
       "      <th>gdpPercap_2007</th>\n",
       "    </tr>\n",
       "    <tr>\n",
       "      <th>country</th>\n",
       "      <th></th>\n",
       "      <th></th>\n",
       "      <th></th>\n",
       "      <th></th>\n",
       "      <th></th>\n",
       "      <th></th>\n",
       "      <th></th>\n",
       "      <th></th>\n",
       "      <th></th>\n",
       "      <th></th>\n",
       "      <th></th>\n",
       "      <th></th>\n",
       "    </tr>\n",
       "  </thead>\n",
       "  <tbody>\n",
       "    <tr>\n",
       "      <th>Albania</th>\n",
       "      <td>1601.056136</td>\n",
       "      <td>1942.284244</td>\n",
       "      <td>2312.888958</td>\n",
       "      <td>2760.196931</td>\n",
       "      <td>3313.422188</td>\n",
       "      <td>3533.003910</td>\n",
       "      <td>3630.880722</td>\n",
       "      <td>3738.932735</td>\n",
       "      <td>2497.437901</td>\n",
       "      <td>3193.054604</td>\n",
       "      <td>4604.211737</td>\n",
       "      <td>5937.029526</td>\n",
       "    </tr>\n",
       "    <tr>\n",
       "      <th>Austria</th>\n",
       "      <td>6137.076492</td>\n",
       "      <td>8842.598030</td>\n",
       "      <td>10750.721110</td>\n",
       "      <td>12834.602400</td>\n",
       "      <td>16661.625600</td>\n",
       "      <td>19749.422300</td>\n",
       "      <td>21597.083620</td>\n",
       "      <td>23687.826070</td>\n",
       "      <td>27042.018680</td>\n",
       "      <td>29095.920660</td>\n",
       "      <td>32417.607690</td>\n",
       "      <td>36126.492700</td>\n",
       "    </tr>\n",
       "    <tr>\n",
       "      <th>Belgium</th>\n",
       "      <td>8343.105127</td>\n",
       "      <td>9714.960623</td>\n",
       "      <td>10991.206760</td>\n",
       "      <td>13149.041190</td>\n",
       "      <td>16672.143560</td>\n",
       "      <td>19117.974480</td>\n",
       "      <td>20979.845890</td>\n",
       "      <td>22525.563080</td>\n",
       "      <td>25575.570690</td>\n",
       "      <td>27561.196630</td>\n",
       "      <td>30485.883750</td>\n",
       "      <td>33692.605080</td>\n",
       "    </tr>\n",
       "    <tr>\n",
       "      <th>Bosnia and Herzegovina</th>\n",
       "      <td>973.533195</td>\n",
       "      <td>1353.989176</td>\n",
       "      <td>1709.683679</td>\n",
       "      <td>2172.352423</td>\n",
       "      <td>2860.169750</td>\n",
       "      <td>3528.481305</td>\n",
       "      <td>4126.613157</td>\n",
       "      <td>4314.114757</td>\n",
       "      <td>2546.781445</td>\n",
       "      <td>4766.355904</td>\n",
       "      <td>6018.975239</td>\n",
       "      <td>7446.298803</td>\n",
       "    </tr>\n",
       "    <tr>\n",
       "      <th>Bulgaria</th>\n",
       "      <td>2444.286648</td>\n",
       "      <td>3008.670727</td>\n",
       "      <td>4254.337839</td>\n",
       "      <td>5577.002800</td>\n",
       "      <td>6597.494398</td>\n",
       "      <td>7612.240438</td>\n",
       "      <td>8224.191647</td>\n",
       "      <td>8239.854824</td>\n",
       "      <td>6302.623438</td>\n",
       "      <td>5970.388760</td>\n",
       "      <td>7696.777725</td>\n",
       "      <td>10680.792820</td>\n",
       "    </tr>\n",
       "  </tbody>\n",
       "</table>\n",
       "</div>"
      ],
      "text/plain": [
       "                        gdpPercap_1952  gdpPercap_1957  gdpPercap_1962  \\\n",
       "country                                                                  \n",
       "Albania                    1601.056136     1942.284244     2312.888958   \n",
       "Austria                    6137.076492     8842.598030    10750.721110   \n",
       "Belgium                    8343.105127     9714.960623    10991.206760   \n",
       "Bosnia and Herzegovina      973.533195     1353.989176     1709.683679   \n",
       "Bulgaria                   2444.286648     3008.670727     4254.337839   \n",
       "\n",
       "                        gdpPercap_1967  gdpPercap_1972  gdpPercap_1977  \\\n",
       "country                                                                  \n",
       "Albania                    2760.196931     3313.422188     3533.003910   \n",
       "Austria                   12834.602400    16661.625600    19749.422300   \n",
       "Belgium                   13149.041190    16672.143560    19117.974480   \n",
       "Bosnia and Herzegovina     2172.352423     2860.169750     3528.481305   \n",
       "Bulgaria                   5577.002800     6597.494398     7612.240438   \n",
       "\n",
       "                        gdpPercap_1982  gdpPercap_1987  gdpPercap_1992  \\\n",
       "country                                                                  \n",
       "Albania                    3630.880722     3738.932735     2497.437901   \n",
       "Austria                   21597.083620    23687.826070    27042.018680   \n",
       "Belgium                   20979.845890    22525.563080    25575.570690   \n",
       "Bosnia and Herzegovina     4126.613157     4314.114757     2546.781445   \n",
       "Bulgaria                   8224.191647     8239.854824     6302.623438   \n",
       "\n",
       "                        gdpPercap_1997  gdpPercap_2002  gdpPercap_2007  \n",
       "country                                                                 \n",
       "Albania                    3193.054604     4604.211737     5937.029526  \n",
       "Austria                   29095.920660    32417.607690    36126.492700  \n",
       "Belgium                   27561.196630    30485.883750    33692.605080  \n",
       "Bosnia and Herzegovina     4766.355904     6018.975239     7446.298803  \n",
       "Bulgaria                   5970.388760     7696.777725    10680.792820  "
      ]
     },
     "execution_count": 84,
     "metadata": {},
     "output_type": "execute_result"
    }
   ],
   "source": [
    "europe.head()  ## show first 5 rows"
   ]
  },
  {
   "cell_type": "code",
   "execution_count": 85,
   "metadata": {},
   "outputs": [
    {
     "data": {
      "text/plain": [
       "1601.0561359999999"
      ]
     },
     "execution_count": 85,
     "metadata": {},
     "output_type": "execute_result"
    }
   ],
   "source": [
    "europe.ix[0,0]   ## show index row 1 and column 1"
   ]
  },
  {
   "cell_type": "code",
   "execution_count": 86,
   "metadata": {},
   "outputs": [
    {
     "data": {
      "text/html": [
       "<div>\n",
       "<table border=\"1\" class=\"dataframe\">\n",
       "  <thead>\n",
       "    <tr style=\"text-align: right;\">\n",
       "      <th></th>\n",
       "      <th>gdpPercap_1952</th>\n",
       "      <th>gdpPercap_1957</th>\n",
       "      <th>gdpPercap_1962</th>\n",
       "    </tr>\n",
       "    <tr>\n",
       "      <th>country</th>\n",
       "      <th></th>\n",
       "      <th></th>\n",
       "      <th></th>\n",
       "    </tr>\n",
       "  </thead>\n",
       "  <tbody>\n",
       "    <tr>\n",
       "      <th>Albania</th>\n",
       "      <td>1601.056136</td>\n",
       "      <td>1942.284244</td>\n",
       "      <td>2312.888958</td>\n",
       "    </tr>\n",
       "    <tr>\n",
       "      <th>Austria</th>\n",
       "      <td>6137.076492</td>\n",
       "      <td>8842.598030</td>\n",
       "      <td>10750.721110</td>\n",
       "    </tr>\n",
       "    <tr>\n",
       "      <th>Belgium</th>\n",
       "      <td>8343.105127</td>\n",
       "      <td>9714.960623</td>\n",
       "      <td>10991.206760</td>\n",
       "    </tr>\n",
       "    <tr>\n",
       "      <th>Bosnia and Herzegovina</th>\n",
       "      <td>973.533195</td>\n",
       "      <td>1353.989176</td>\n",
       "      <td>1709.683679</td>\n",
       "    </tr>\n",
       "    <tr>\n",
       "      <th>Bulgaria</th>\n",
       "      <td>2444.286648</td>\n",
       "      <td>3008.670727</td>\n",
       "      <td>4254.337839</td>\n",
       "    </tr>\n",
       "  </tbody>\n",
       "</table>\n",
       "</div>"
      ],
      "text/plain": [
       "                        gdpPercap_1952  gdpPercap_1957  gdpPercap_1962\n",
       "country                                                               \n",
       "Albania                    1601.056136     1942.284244     2312.888958\n",
       "Austria                    6137.076492     8842.598030    10750.721110\n",
       "Belgium                    8343.105127     9714.960623    10991.206760\n",
       "Bosnia and Herzegovina      973.533195     1353.989176     1709.683679\n",
       "Bulgaria                   2444.286648     3008.670727     4254.337839"
      ]
     },
     "execution_count": 86,
     "metadata": {},
     "output_type": "execute_result"
    }
   ],
   "source": [
    "europe.ix[0:5,0:3]   ## show index first 5 rows and first 3 columns"
   ]
  },
  {
   "cell_type": "code",
   "execution_count": 87,
   "metadata": {},
   "outputs": [
    {
     "data": {
      "text/plain": [
       "1942.2842440000002"
      ]
     },
     "execution_count": 87,
     "metadata": {},
     "output_type": "execute_result"
    }
   ],
   "source": [
    "europe.ix['Albania', 'gdpPercap_1957']  ## can assign by variable name"
   ]
  },
  {
   "cell_type": "code",
   "execution_count": 89,
   "metadata": {},
   "outputs": [
    {
     "data": {
      "text/plain": [
       "gdpPercap_1952    1601.056136\n",
       "gdpPercap_1957    1942.284244\n",
       "gdpPercap_1962    2312.888958\n",
       "gdpPercap_1967    2760.196931\n",
       "gdpPercap_1972    3313.422188\n",
       "gdpPercap_1977    3533.003910\n",
       "gdpPercap_1982    3630.880722\n",
       "gdpPercap_1987    3738.932735\n",
       "gdpPercap_1992    2497.437901\n",
       "gdpPercap_1997    3193.054604\n",
       "gdpPercap_2002    4604.211737\n",
       "gdpPercap_2007    5937.029526\n",
       "Name: Albania, dtype: float64"
      ]
     },
     "execution_count": 89,
     "metadata": {},
     "output_type": "execute_result"
    }
   ],
   "source": [
    "europe.ix['Albania']  ## no need to assign columns, it will show all column data"
   ]
  },
  {
   "cell_type": "code",
   "execution_count": 94,
   "metadata": {},
   "outputs": [
    {
     "data": {
      "text/plain": [
       "country\n",
       "Albania                    1942.284244\n",
       "Austria                    8842.598030\n",
       "Belgium                    9714.960623\n",
       "Bosnia and Herzegovina     1353.989176\n",
       "Bulgaria                   3008.670727\n",
       "Croatia                    4338.231617\n",
       "Czech Republic             8256.343918\n",
       "Denmark                   11099.659350\n",
       "Finland                    7545.415386\n",
       "France                     8662.834898\n",
       "Germany                   10187.826650\n",
       "Greece                     4916.299889\n",
       "Hungary                    6040.180011\n",
       "Iceland                    9244.001412\n",
       "Ireland                    5599.077872\n",
       "Italy                      6248.656232\n",
       "Montenegro                 3682.259903\n",
       "Netherlands               11276.193440\n",
       "Norway                    11653.973040\n",
       "Poland                     4734.253019\n",
       "Portugal                   3774.571743\n",
       "Romania                    3943.370225\n",
       "Serbia                     4981.090891\n",
       "Slovak Republic            6093.262980\n",
       "Slovenia                   5862.276629\n",
       "Spain                      4564.802410\n",
       "Sweden                     9911.878226\n",
       "Switzerland               17909.489730\n",
       "Turkey                     2218.754257\n",
       "United Kingdom            11283.177950\n",
       "Name: gdpPercap_1957, dtype: float64"
      ]
     },
     "execution_count": 94,
     "metadata": {},
     "output_type": "execute_result"
    }
   ],
   "source": [
    "europe.ix[:,'gdpPercap_1957']  ## if use index, need to assign all rows"
   ]
  },
  {
   "cell_type": "code",
   "execution_count": 93,
   "metadata": {},
   "outputs": [
    {
     "data": {
      "text/plain": [
       "country\n",
       "Albania                    1942.284244\n",
       "Austria                    8842.598030\n",
       "Belgium                    9714.960623\n",
       "Bosnia and Herzegovina     1353.989176\n",
       "Bulgaria                   3008.670727\n",
       "Croatia                    4338.231617\n",
       "Czech Republic             8256.343918\n",
       "Denmark                   11099.659350\n",
       "Finland                    7545.415386\n",
       "France                     8662.834898\n",
       "Germany                   10187.826650\n",
       "Greece                     4916.299889\n",
       "Hungary                    6040.180011\n",
       "Iceland                    9244.001412\n",
       "Ireland                    5599.077872\n",
       "Italy                      6248.656232\n",
       "Montenegro                 3682.259903\n",
       "Netherlands               11276.193440\n",
       "Norway                    11653.973040\n",
       "Poland                     4734.253019\n",
       "Portugal                   3774.571743\n",
       "Romania                    3943.370225\n",
       "Serbia                     4981.090891\n",
       "Slovak Republic            6093.262980\n",
       "Slovenia                   5862.276629\n",
       "Spain                      4564.802410\n",
       "Sweden                     9911.878226\n",
       "Switzerland               17909.489730\n",
       "Turkey                     2218.754257\n",
       "United Kingdom            11283.177950\n",
       "Name: gdpPercap_1957, dtype: float64"
      ]
     },
     "execution_count": 93,
     "metadata": {},
     "output_type": "execute_result"
    }
   ],
   "source": [
    "europe['gdpPercap_1957']  ## don't need to assign rows if you don't use index function"
   ]
  },
  {
   "cell_type": "code",
   "execution_count": 96,
   "metadata": {},
   "outputs": [
    {
     "data": {
      "text/plain": [
       "gdpPercap_1962    2312.888958\n",
       "gdpPercap_1967    2760.196931\n",
       "gdpPercap_1972    3313.422188\n",
       "gdpPercap_1977    3533.003910\n",
       "gdpPercap_1982    3630.880722\n",
       "gdpPercap_1987    3738.932735\n",
       "gdpPercap_1992    2497.437901\n",
       "gdpPercap_1997    3193.054604\n",
       "gdpPercap_2002    4604.211737\n",
       "gdpPercap_2007    5937.029526\n",
       "Name: Albania, dtype: float64"
      ]
     },
     "execution_count": 96,
     "metadata": {},
     "output_type": "execute_result"
    }
   ],
   "source": [
    "europe.ix['Albania','gdpPercap_1962':'gdpPrecap_1977']  ## if use index, need to assign certain row\n",
    "## or you can use column #, e.g., europe.ix['Albania',2:5]"
   ]
  },
  {
   "cell_type": "code",
   "execution_count": 97,
   "metadata": {},
   "outputs": [
    {
     "data": {
      "text/html": [
       "<div>\n",
       "<table border=\"1\" class=\"dataframe\">\n",
       "  <thead>\n",
       "    <tr style=\"text-align: right;\">\n",
       "      <th></th>\n",
       "      <th>gdpPercap_1952</th>\n",
       "      <th>gdpPercap_1957</th>\n",
       "      <th>gdpPercap_1962</th>\n",
       "      <th>gdpPercap_1967</th>\n",
       "      <th>gdpPercap_1972</th>\n",
       "      <th>gdpPercap_1977</th>\n",
       "      <th>gdpPercap_1982</th>\n",
       "      <th>gdpPercap_1987</th>\n",
       "      <th>gdpPercap_1992</th>\n",
       "      <th>gdpPercap_1997</th>\n",
       "      <th>gdpPercap_2002</th>\n",
       "      <th>gdpPercap_2007</th>\n",
       "    </tr>\n",
       "    <tr>\n",
       "      <th>country</th>\n",
       "      <th></th>\n",
       "      <th></th>\n",
       "      <th></th>\n",
       "      <th></th>\n",
       "      <th></th>\n",
       "      <th></th>\n",
       "      <th></th>\n",
       "      <th></th>\n",
       "      <th></th>\n",
       "      <th></th>\n",
       "      <th></th>\n",
       "      <th></th>\n",
       "    </tr>\n",
       "  </thead>\n",
       "  <tbody>\n",
       "    <tr>\n",
       "      <th>Italy</th>\n",
       "      <td>4931.404155</td>\n",
       "      <td>6248.656232</td>\n",
       "      <td>8243.582340</td>\n",
       "      <td>10022.401310</td>\n",
       "      <td>12269.273780</td>\n",
       "      <td>14255.984750</td>\n",
       "      <td>16537.483500</td>\n",
       "      <td>19207.234820</td>\n",
       "      <td>22013.644860</td>\n",
       "      <td>24675.024460</td>\n",
       "      <td>27968.098170</td>\n",
       "      <td>28569.719700</td>\n",
       "    </tr>\n",
       "    <tr>\n",
       "      <th>Montenegro</th>\n",
       "      <td>2647.585601</td>\n",
       "      <td>3682.259903</td>\n",
       "      <td>4649.593785</td>\n",
       "      <td>5907.850937</td>\n",
       "      <td>7778.414017</td>\n",
       "      <td>9595.929905</td>\n",
       "      <td>11222.587620</td>\n",
       "      <td>11732.510170</td>\n",
       "      <td>7003.339037</td>\n",
       "      <td>6465.613349</td>\n",
       "      <td>6557.194282</td>\n",
       "      <td>9253.896111</td>\n",
       "    </tr>\n",
       "    <tr>\n",
       "      <th>Netherlands</th>\n",
       "      <td>8941.571858</td>\n",
       "      <td>11276.193440</td>\n",
       "      <td>12790.849560</td>\n",
       "      <td>15363.251360</td>\n",
       "      <td>18794.745670</td>\n",
       "      <td>21209.059200</td>\n",
       "      <td>21399.460460</td>\n",
       "      <td>23651.323610</td>\n",
       "      <td>26790.949610</td>\n",
       "      <td>30246.130630</td>\n",
       "      <td>33724.757780</td>\n",
       "      <td>36797.933320</td>\n",
       "    </tr>\n",
       "    <tr>\n",
       "      <th>Norway</th>\n",
       "      <td>10095.421720</td>\n",
       "      <td>11653.973040</td>\n",
       "      <td>13450.401510</td>\n",
       "      <td>16361.876470</td>\n",
       "      <td>18965.055510</td>\n",
       "      <td>23311.349390</td>\n",
       "      <td>26298.635310</td>\n",
       "      <td>31540.974800</td>\n",
       "      <td>33965.661150</td>\n",
       "      <td>41283.164330</td>\n",
       "      <td>44683.975250</td>\n",
       "      <td>49357.190170</td>\n",
       "    </tr>\n",
       "    <tr>\n",
       "      <th>Poland</th>\n",
       "      <td>4029.329699</td>\n",
       "      <td>4734.253019</td>\n",
       "      <td>5338.752143</td>\n",
       "      <td>6557.152776</td>\n",
       "      <td>8006.506993</td>\n",
       "      <td>9508.141454</td>\n",
       "      <td>8451.531004</td>\n",
       "      <td>9082.351172</td>\n",
       "      <td>7738.881247</td>\n",
       "      <td>10159.583680</td>\n",
       "      <td>12002.239080</td>\n",
       "      <td>15389.924680</td>\n",
       "    </tr>\n",
       "  </tbody>\n",
       "</table>\n",
       "</div>"
      ],
      "text/plain": [
       "             gdpPercap_1952  gdpPercap_1957  gdpPercap_1962  gdpPercap_1967  \\\n",
       "country                                                                       \n",
       "Italy           4931.404155     6248.656232     8243.582340    10022.401310   \n",
       "Montenegro      2647.585601     3682.259903     4649.593785     5907.850937   \n",
       "Netherlands     8941.571858    11276.193440    12790.849560    15363.251360   \n",
       "Norway         10095.421720    11653.973040    13450.401510    16361.876470   \n",
       "Poland          4029.329699     4734.253019     5338.752143     6557.152776   \n",
       "\n",
       "             gdpPercap_1972  gdpPercap_1977  gdpPercap_1982  gdpPercap_1987  \\\n",
       "country                                                                       \n",
       "Italy          12269.273780    14255.984750    16537.483500    19207.234820   \n",
       "Montenegro      7778.414017     9595.929905    11222.587620    11732.510170   \n",
       "Netherlands    18794.745670    21209.059200    21399.460460    23651.323610   \n",
       "Norway         18965.055510    23311.349390    26298.635310    31540.974800   \n",
       "Poland          8006.506993     9508.141454     8451.531004     9082.351172   \n",
       "\n",
       "             gdpPercap_1992  gdpPercap_1997  gdpPercap_2002  gdpPercap_2007  \n",
       "country                                                                      \n",
       "Italy          22013.644860    24675.024460    27968.098170    28569.719700  \n",
       "Montenegro      7003.339037     6465.613349     6557.194282     9253.896111  \n",
       "Netherlands    26790.949610    30246.130630    33724.757780    36797.933320  \n",
       "Norway         33965.661150    41283.164330    44683.975250    49357.190170  \n",
       "Poland          7738.881247    10159.583680    12002.239080    15389.924680  "
      ]
     },
     "execution_count": 97,
     "metadata": {},
     "output_type": "execute_result"
    }
   ],
   "source": [
    "europe.ix['Italy':'Poland']   ## for index function, you don't need to assign columns, it will just show all columns"
   ]
  },
  {
   "cell_type": "code",
   "execution_count": 98,
   "metadata": {},
   "outputs": [
    {
     "data": {
      "text/plain": [
       "gdpPercap_1962    13450.40151\n",
       "gdpPercap_1967    16361.87647\n",
       "gdpPercap_1972    18965.05551\n",
       "dtype: float64"
      ]
     },
     "execution_count": 98,
     "metadata": {},
     "output_type": "execute_result"
    }
   ],
   "source": [
    "europe.ix['Italy':'Poland', 2:5].max()  ## max value of each column"
   ]
  },
  {
   "cell_type": "code",
   "execution_count": 99,
   "metadata": {},
   "outputs": [
    {
     "data": {
      "text/plain": [
       "gdpPercap_1962    4649.593785\n",
       "gdpPercap_1967    5907.850937\n",
       "gdpPercap_1972    7778.414017\n",
       "dtype: float64"
      ]
     },
     "execution_count": 99,
     "metadata": {},
     "output_type": "execute_result"
    }
   ],
   "source": [
    "europe.ix['Italy':'Poland', 2:5].min()  ## min value of each column"
   ]
  },
  {
   "cell_type": "code",
   "execution_count": 100,
   "metadata": {},
   "outputs": [
    {
     "data": {
      "text/plain": [
       "gdpPercap_1952    14734.23275\n",
       "gdpPercap_1957    17909.48973\n",
       "gdpPercap_1962    20431.09270\n",
       "gdpPercap_1967    22966.14432\n",
       "gdpPercap_1972    27195.11304\n",
       "gdpPercap_1977    26982.29052\n",
       "gdpPercap_1982    28397.71512\n",
       "gdpPercap_1987    31540.97480\n",
       "gdpPercap_1992    33965.66115\n",
       "gdpPercap_1997    41283.16433\n",
       "gdpPercap_2002    44683.97525\n",
       "gdpPercap_2007    49357.19017\n",
       "dtype: float64"
      ]
     },
     "execution_count": 100,
     "metadata": {},
     "output_type": "execute_result"
    }
   ],
   "source": [
    "europe.max()   ## max value of each column for all countries"
   ]
  },
  {
   "cell_type": "code",
   "execution_count": 102,
   "metadata": {},
   "outputs": [
    {
     "data": {
      "text/plain": [
       "country\n",
       "Albania                    5937.029526\n",
       "Austria                   36126.492700\n",
       "Belgium                   33692.605080\n",
       "Bosnia and Herzegovina     7446.298803\n",
       "Bulgaria                  10680.792820\n",
       "Croatia                   14619.222720\n",
       "Czech Republic            22833.308510\n",
       "Denmark                   35278.418740\n",
       "Finland                   33207.084400\n",
       "France                    30470.016700\n",
       "Germany                   32170.374420\n",
       "Greece                    27538.411880\n",
       "Hungary                   18008.944440\n",
       "Iceland                   36180.789190\n",
       "Ireland                   40675.996350\n",
       "Italy                     28569.719700\n",
       "Montenegro                11732.510170\n",
       "Netherlands               36797.933320\n",
       "Norway                    49357.190170\n",
       "Poland                    15389.924680\n",
       "Portugal                  20509.647770\n",
       "Romania                   10808.475610\n",
       "Serbia                    15870.878510\n",
       "Slovak Republic           18678.314350\n",
       "Slovenia                  25768.257590\n",
       "Spain                     28821.063700\n",
       "Sweden                    33859.748350\n",
       "Switzerland               37506.419070\n",
       "Turkey                     8458.276384\n",
       "United Kingdom            33203.261280\n",
       "dtype: float64"
      ]
     },
     "execution_count": 102,
     "metadata": {},
     "output_type": "execute_result"
    }
   ],
   "source": [
    "europe.max(axis=1)"
   ]
  },
  {
   "cell_type": "code",
   "execution_count": 104,
   "metadata": {},
   "outputs": [
    {
     "data": {
      "text/plain": [
       "country\n",
       "Italy           8243.582340\n",
       "Montenegro      4649.593785\n",
       "Netherlands    12790.849560\n",
       "Norway         13450.401510\n",
       "Poland          5338.752143\n",
       "dtype: float64"
      ]
     },
     "execution_count": 104,
     "metadata": {},
     "output_type": "execute_result"
    }
   ],
   "source": [
    "europe.ix['Italy':'Poland', 2:5].min(axis=1)"
   ]
  },
  {
   "cell_type": "code",
   "execution_count": 107,
   "metadata": {},
   "outputs": [
    {
     "name": "stdout",
     "output_type": "stream",
     "text": [
      "             gdpPercap_1962  gdpPercap_1967  gdpPercap_1972\n",
      "country                                                    \n",
      "Italy           8243.582340    10022.401310    12269.273780\n",
      "Montenegro      4649.593785     5907.850937     7778.414017\n",
      "Netherlands    12790.849560    15363.251360    18794.745670\n",
      "Norway         13450.401510    16361.876470    18965.055510\n",
      "Poland          5338.752143     6557.152776     8006.506993\n",
      "            gdpPercap_1962 gdpPercap_1967 gdpPercap_1972\n",
      "country                                                 \n",
      "Italy                False           True           True\n",
      "Montenegro           False          False          False\n",
      "Netherlands           True           True           True\n",
      "Norway                True           True           True\n",
      "Poland               False          False          False\n"
     ]
    }
   ],
   "source": [
    "subset = europe.ix['Italy':'Poland', 2:5]\n",
    "print(subset)\n",
    "print(subset > 1e4)   ## show assigned statements TRUE or FALSE"
   ]
  },
  {
   "cell_type": "code",
   "execution_count": 108,
   "metadata": {},
   "outputs": [
    {
     "data": {
      "text/plain": [
       "pandas.core.frame.DataFrame"
      ]
     },
     "execution_count": 108,
     "metadata": {},
     "output_type": "execute_result"
    }
   ],
   "source": [
    "type(subset > 1e4)"
   ]
  },
  {
   "cell_type": "code",
   "execution_count": 114,
   "metadata": {},
   "outputs": [
    {
     "data": {
      "text/html": [
       "<div>\n",
       "<table border=\"1\" class=\"dataframe\">\n",
       "  <thead>\n",
       "    <tr style=\"text-align: right;\">\n",
       "      <th></th>\n",
       "      <th>gdpPercap_1962</th>\n",
       "      <th>gdpPercap_1967</th>\n",
       "      <th>gdpPercap_1972</th>\n",
       "    </tr>\n",
       "    <tr>\n",
       "      <th>country</th>\n",
       "      <th></th>\n",
       "      <th></th>\n",
       "      <th></th>\n",
       "    </tr>\n",
       "  </thead>\n",
       "  <tbody>\n",
       "    <tr>\n",
       "      <th>Italy</th>\n",
       "      <td>NaN</td>\n",
       "      <td>10022.40131</td>\n",
       "      <td>12269.27378</td>\n",
       "    </tr>\n",
       "    <tr>\n",
       "      <th>Montenegro</th>\n",
       "      <td>NaN</td>\n",
       "      <td>NaN</td>\n",
       "      <td>NaN</td>\n",
       "    </tr>\n",
       "    <tr>\n",
       "      <th>Netherlands</th>\n",
       "      <td>12790.84956</td>\n",
       "      <td>15363.25136</td>\n",
       "      <td>18794.74567</td>\n",
       "    </tr>\n",
       "    <tr>\n",
       "      <th>Norway</th>\n",
       "      <td>13450.40151</td>\n",
       "      <td>16361.87647</td>\n",
       "      <td>18965.05551</td>\n",
       "    </tr>\n",
       "    <tr>\n",
       "      <th>Poland</th>\n",
       "      <td>NaN</td>\n",
       "      <td>NaN</td>\n",
       "      <td>NaN</td>\n",
       "    </tr>\n",
       "  </tbody>\n",
       "</table>\n",
       "</div>"
      ],
      "text/plain": [
       "             gdpPercap_1962  gdpPercap_1967  gdpPercap_1972\n",
       "country                                                    \n",
       "Italy                   NaN     10022.40131     12269.27378\n",
       "Montenegro              NaN             NaN             NaN\n",
       "Netherlands     12790.84956     15363.25136     18794.74567\n",
       "Norway          13450.40151     16361.87647     18965.05551\n",
       "Poland                  NaN             NaN             NaN"
      ]
     },
     "execution_count": 114,
     "metadata": {},
     "output_type": "execute_result"
    }
   ],
   "source": [
    "mask = subset > 1e4   ## only show values > 1e4 = mask values under 1e4\n",
    "subset[mask]"
   ]
  },
  {
   "cell_type": "code",
   "execution_count": 115,
   "metadata": {},
   "outputs": [
    {
     "data": {
      "text/plain": [
       "gdpPercap_1962    13450.40151\n",
       "gdpPercap_1967    16361.87647\n",
       "gdpPercap_1972    18965.05551\n",
       "dtype: float64"
      ]
     },
     "execution_count": 115,
     "metadata": {},
     "output_type": "execute_result"
    }
   ],
   "source": [
    "subset[mask].max()"
   ]
  },
  {
   "cell_type": "code",
   "execution_count": 116,
   "metadata": {},
   "outputs": [
    {
     "data": {
      "text/plain": [
       "gdpPercap_1962    13120.625535\n",
       "gdpPercap_1967    13915.843047\n",
       "gdpPercap_1972    16676.358320\n",
       "dtype: float64"
      ]
     },
     "execution_count": 116,
     "metadata": {},
     "output_type": "execute_result"
    }
   ],
   "source": [
    "subset[mask].mean()"
   ]
  },
  {
   "cell_type": "code",
   "execution_count": 118,
   "metadata": {},
   "outputs": [
    {
     "name": "stdout",
     "output_type": "stream",
     "text": [
      "gdpPercap_1952    Bosnia and Herzegovina\n",
      "gdpPercap_1957    Bosnia and Herzegovina\n",
      "gdpPercap_1962    Bosnia and Herzegovina\n",
      "gdpPercap_1967    Bosnia and Herzegovina\n",
      "gdpPercap_1972    Bosnia and Herzegovina\n",
      "gdpPercap_1977    Bosnia and Herzegovina\n",
      "gdpPercap_1982                   Albania\n",
      "gdpPercap_1987                   Albania\n",
      "gdpPercap_1992                   Albania\n",
      "gdpPercap_1997                   Albania\n",
      "gdpPercap_2002                   Albania\n",
      "gdpPercap_2007                   Albania\n",
      "dtype: object\n"
     ]
    }
   ],
   "source": [
    "print(europe.idxmin())   ## gives countries have minimun GDP"
   ]
  },
  {
   "cell_type": "code",
   "execution_count": 120,
   "metadata": {},
   "outputs": [
    {
     "data": {
      "text/plain": [
       "{'a': [1, 2, 3], 'b': [4, 5, 6]}"
      ]
     },
     "execution_count": 120,
     "metadata": {},
     "output_type": "execute_result"
    }
   ],
   "source": [
    "col_1 = [1,2,3]  ## create a dataframe\n",
    "col_2 = [4,5,6]\n",
    "{'a':col_1, 'b':col_2}  ## create a dictionary"
   ]
  },
  {
   "cell_type": "code",
   "execution_count": 121,
   "metadata": {},
   "outputs": [
    {
     "data": {
      "text/html": [
       "<div>\n",
       "<table border=\"1\" class=\"dataframe\">\n",
       "  <thead>\n",
       "    <tr style=\"text-align: right;\">\n",
       "      <th></th>\n",
       "      <th>a</th>\n",
       "      <th>b</th>\n",
       "    </tr>\n",
       "  </thead>\n",
       "  <tbody>\n",
       "    <tr>\n",
       "      <th>0</th>\n",
       "      <td>1</td>\n",
       "      <td>4</td>\n",
       "    </tr>\n",
       "    <tr>\n",
       "      <th>1</th>\n",
       "      <td>2</td>\n",
       "      <td>5</td>\n",
       "    </tr>\n",
       "    <tr>\n",
       "      <th>2</th>\n",
       "      <td>3</td>\n",
       "      <td>6</td>\n",
       "    </tr>\n",
       "  </tbody>\n",
       "</table>\n",
       "</div>"
      ],
      "text/plain": [
       "   a  b\n",
       "0  1  4\n",
       "1  2  5\n",
       "2  3  6"
      ]
     },
     "execution_count": 121,
     "metadata": {},
     "output_type": "execute_result"
    }
   ],
   "source": [
    "pandas.DataFrame({'a':col_1, 'b':col_2})  ## create a dictionary"
   ]
  },
  {
   "cell_type": "code",
   "execution_count": 123,
   "metadata": {},
   "outputs": [
    {
     "data": {
      "text/html": [
       "<div>\n",
       "<table border=\"1\" class=\"dataframe\">\n",
       "  <thead>\n",
       "    <tr style=\"text-align: right;\">\n",
       "      <th></th>\n",
       "      <th>a</th>\n",
       "      <th>b</th>\n",
       "    </tr>\n",
       "  </thead>\n",
       "  <tbody>\n",
       "    <tr>\n",
       "      <th>a1</th>\n",
       "      <td>1</td>\n",
       "      <td>4</td>\n",
       "    </tr>\n",
       "    <tr>\n",
       "      <th>a2</th>\n",
       "      <td>2</td>\n",
       "      <td>5</td>\n",
       "    </tr>\n",
       "    <tr>\n",
       "      <th>a3</th>\n",
       "      <td>3</td>\n",
       "      <td>6</td>\n",
       "    </tr>\n",
       "  </tbody>\n",
       "</table>\n",
       "</div>"
      ],
      "text/plain": [
       "    a  b\n",
       "a1  1  4\n",
       "a2  2  5\n",
       "a3  3  6"
      ]
     },
     "execution_count": 123,
     "metadata": {},
     "output_type": "execute_result"
    }
   ],
   "source": [
    "pandas.DataFrame({'a':col_1, 'b':col_2}, index =['a1', 'a2', 'a3'])  ## give index name"
   ]
  },
  {
   "cell_type": "code",
   "execution_count": 130,
   "metadata": {
    "collapsed": true
   },
   "outputs": [],
   "source": [
    "import matplotlib.pyplot as mplot  ## import matplotlib and assign a shorter name for convinience\n",
    "\n",
    "## pyplot has plot function"
   ]
  },
  {
   "cell_type": "code",
   "execution_count": 131,
   "metadata": {
    "collapsed": true
   },
   "outputs": [],
   "source": [
    "%matplotlib inline"
   ]
  },
  {
   "cell_type": "code",
   "execution_count": 135,
   "metadata": {},
   "outputs": [
    {
     "data": {
      "text/plain": [
       "<matplotlib.text.Text at 0x115e3fcf8>"
      ]
     },
     "execution_count": 135,
     "metadata": {},
     "output_type": "execute_result"
    },
    {
     "data": {
      "image/png": "[encoded data removed]",
      "text/plain": [
       "<matplotlib.figure.Figure at 0x115f5fa20>"
      ]
     },
     "metadata": {},
     "output_type": "display_data"
    }
   ],
   "source": [
    "x = [1,2,3,4,5]\n",
    "y = [2,4,8,16,64]\n",
    "mplot.plot(x,y)\n",
    "mplot.xlabel('x')  # assign x-axis a name \"x\"\n",
    "mplot.ylabel('y')"
   ]
  },
  {
   "cell_type": "code",
   "execution_count": 138,
   "metadata": {},
   "outputs": [
    {
     "data": {
      "text/plain": [
       "(array([  0.,   2.,   4.,   6.,   8.,  10.,  12.]),\n",
       " <a list of 7 Text xticklabel objects>)"
      ]
     },
     "execution_count": 138,
     "metadata": {},
     "output_type": "execute_result"
    },
    {
     "data": {
      "image/png": "[encoded data removed]",
      "text/plain": [
       "<matplotlib.figure.Figure at 0x1161f8320>"
      ]
     },
     "metadata": {},
     "output_type": "display_data"
    }
   ],
   "source": [
    "europe.ix['Spain'].plot()   ## plot GDP of Spain\n",
    "mplot.xticks(rotation=30)   ## align X-axis in 30 degress so that you can see full label"
   ]
  },
  {
   "cell_type": "code",
   "execution_count": 140,
   "metadata": {},
   "outputs": [
    {
     "name": "stdout",
     "output_type": "stream",
     "text": [
      "gdpPercap_1952     3834.034742\n",
      "gdpPercap_1957     4564.802410\n",
      "gdpPercap_1962     5693.843879\n",
      "gdpPercap_1967     7993.512294\n",
      "gdpPercap_1972    10638.751310\n",
      "gdpPercap_1977    13236.921170\n",
      "gdpPercap_1982    13926.169970\n",
      "gdpPercap_1987    15764.983130\n",
      "gdpPercap_1992    18603.064520\n",
      "gdpPercap_1997    20445.298960\n",
      "gdpPercap_2002    24835.471660\n",
      "gdpPercap_2007    28821.063700\n",
      "Name: Spain, dtype: float64\n",
      "gdpPercap_1952     8527.844662\n",
      "gdpPercap_1957     9911.878226\n",
      "gdpPercap_1962    12329.441920\n",
      "gdpPercap_1967    15258.296970\n",
      "gdpPercap_1972    17832.024640\n",
      "gdpPercap_1977    18855.725210\n",
      "gdpPercap_1982    20667.381250\n",
      "gdpPercap_1987    23586.929270\n",
      "gdpPercap_1992    23880.016830\n",
      "gdpPercap_1997    25266.594990\n",
      "gdpPercap_2002    29341.630930\n",
      "gdpPercap_2007    33859.748350\n",
      "Name: Sweden, dtype: float64\n"
     ]
    }
   ],
   "source": [
    "gdpSpain = europe.ix['Spain']\n",
    "gdpSweden = europe.ix['Sweden']\n",
    "print(gdpSpain)\n",
    "print(gdpSweden)"
   ]
  },
  {
   "cell_type": "code",
   "execution_count": 142,
   "metadata": {},
   "outputs": [
    {
     "data": {
      "text/plain": [
       "<matplotlib.collections.PathCollection at 0x1167b06d8>"
      ]
     },
     "execution_count": 142,
     "metadata": {},
     "output_type": "execute_result"
    },
    {
     "data": {
      "image/png": "[encoded data removed]",
      "text/plain": [
       "<matplotlib.figure.Figure at 0x116659198>"
      ]
     },
     "metadata": {},
     "output_type": "display_data"
    }
   ],
   "source": [
    "mplot.scatter(gdpSpain, gdpSweden, s=[])    ## s is size of dot; default of s = 20"
   ]
  },
  {
   "cell_type": "code",
   "execution_count": 144,
   "metadata": {},
   "outputs": [
    {
     "data": {
      "text/plain": [
       "<matplotlib.collections.PathCollection at 0x116c33cc0>"
      ]
     },
     "execution_count": 144,
     "metadata": {},
     "output_type": "execute_result"
    },
    {
     "data": {
      "image/png": "[encoded data removed]",
      "text/plain": [
       "<matplotlib.figure.Figure at 0x116b1b400>"
      ]
     },
     "metadata": {},
     "output_type": "display_data"
    }
   ],
   "source": [
    "mplot.scatter(gdpSpain, gdpSweden, s=50) "
   ]
  },
  {
   "cell_type": "code",
   "execution_count": 154,
   "metadata": {},
   "outputs": [
    {
     "data": {
      "text/plain": [
       "<matplotlib.collections.PathCollection at 0x117225198>"
      ]
     },
     "execution_count": 154,
     "metadata": {},
     "output_type": "execute_result"
    },
    {
     "data": {
      "image/png": "[encoded data removed]",
      "text/plain": [
       "<matplotlib.figure.Figure at 0x116ff5828>"
      ]
     },
     "metadata": {},
     "output_type": "display_data"
    }
   ],
   "source": [
    "mplot.scatter(gdpSpain, gdpSweden, s=list(range(1000)))   ## dot size can increase as range"
   ]
  },
  {
   "cell_type": "code",
   "execution_count": 146,
   "metadata": {},
   "outputs": [
    {
     "data": {
      "text/plain": [
       "12"
      ]
     },
     "execution_count": 146,
     "metadata": {},
     "output_type": "execute_result"
    }
   ],
   "source": [
    "len(gdpSpain)"
   ]
  },
  {
   "cell_type": "code",
   "execution_count": 155,
   "metadata": {},
   "outputs": [],
   "source": [
    "from glob import glob"
   ]
  },
  {
   "cell_type": "code",
   "execution_count": 157,
   "metadata": {},
   "outputs": [
    {
     "name": "stdout",
     "output_type": "stream",
     "text": [
      "all csv files ['data/gapminder_all.csv', 'data/gapminder_gdp_africa.csv', 'data/gapminder_gdp_americas.csv', 'data/gapminder_gdp_asia.csv', 'data/gapminder_gdp_europe.csv', 'data/gapminder_gdp_oceania.csv', 'data/processed.csv']\n",
      "all GDP files ['data/gapminder_gdp_africa.csv', 'data/gapminder_gdp_americas.csv', 'data/gapminder_gdp_asia.csv', 'data/gapminder_gdp_europe.csv', 'data/gapminder_gdp_oceania.csv']\n"
     ]
    }
   ],
   "source": [
    "print('all csv files', glob('data/*csv'))   ## show all .csv files in the directory\n",
    "print('all GDP files', glob('data/gapminder_gdp*.csv'))  ## print out all GDP files"
   ]
  },
  {
   "cell_type": "code",
   "execution_count": 161,
   "metadata": {},
   "outputs": [
    {
     "name": "stdout",
     "output_type": "stream",
     "text": [
      "data/gapminder_gdp_africa.csv 298.8462121\n",
      "data/gapminder_gdp_americas.csv 1397.717137\n",
      "data/gapminder_gdp_asia.csv 331.0\n",
      "data/gapminder_gdp_europe.csv 973.5331948\n",
      "data/gapminder_gdp_oceania.csv 10039.59564\n"
     ]
    }
   ],
   "source": [
    "for filename in glob('data/gapminder_gdp*.csv'):\n",
    "    data = pandas.read_csv(filename)\n",
    "    print(filename, data.gdpPercap_1952.min())   ## min GDP in each gapminder_gdp.csv file"
   ]
  },
  {
   "cell_type": "code",
   "execution_count": 171,
   "metadata": {},
   "outputs": [
    {
     "name": "stdout",
     "output_type": "stream",
     "text": [
      "calculated smallest file has 52 records\n",
      "calculated smallest file has 25 records\n",
      "calculated smallest file has 25 records\n",
      "calculated smallest file has 25 records\n",
      "calculated smallest file has 2 records\n",
      "final smallest file has 2 records\n"
     ]
    }
   ],
   "source": [
    "fewest = 1e8  ## initialize values\n",
    "for filename in glob('data/gapminder_gdp*.csv'):\n",
    "    fewest = min(fewest, pandas.read_csv(filename).shape[0])\n",
    "    print('calculated smallest file has', fewest, 'records')\n",
    "print('final smallest file has', fewest, 'records')"
   ]
  },
  {
   "cell_type": "code",
   "execution_count": null,
   "metadata": {
    "collapsed": true
   },
   "outputs": [],
   "source": []
  },
  {
   "cell_type": "code",
   "execution_count": null,
   "metadata": {
    "collapsed": true
   },
   "outputs": [],
   "source": []
  }
 ],
 "metadata": {
  "kernelspec": {
   "display_name": "Python 3",
   "language": "python",
   "name": "python3"
  },
  "language_info": {
   "codemirror_mode": {
    "name": "ipython",
    "version": 3
   },
   "file_extension": ".py",
   "mimetype": "text/x-python",
   "name": "python",
   "nbconvert_exporter": "python",
   "pygments_lexer": "ipython3",
   "version": "3.6.3"
  }
 },
 "nbformat": 4,
 "nbformat_minor": 1
}
