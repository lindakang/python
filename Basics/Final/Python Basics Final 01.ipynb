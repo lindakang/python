{
 "cells": [
  {
   "cell_type": "markdown",
   "metadata": {},
   "source": [
    "# Python Basics Final Project"
   ]
  },
  {
   "cell_type": "markdown",
   "metadata": {},
   "source": [
    "We have provided some synthetic (fake, semi-randomly generated) twitter data in a csv file named project_twitter_data.csv which has the text of a tweet, the number of retweets of that tweet, and the number of replies to that tweet. We have also words that express positive sentiment and negative sentiment, in the files positive_words.txt and negative_words.txt.\n",
    "\n",
    "Your task is to build a sentiment classifier, which will detect how positive or negative each tweet is. You will create a csv file, which contains columns for the Number of Retweets, Number of Replies, Positive Score (which is how many happy words are in the tweet), Negative Score (which is how many angry words are in the tweet), and the Net Score for each tweet. At the end, you upload the csv file to Excel or Google Sheets, and produce a graph of the Net Score vs Number of Retweets."
   ]
  },
  {
   "cell_type": "markdown",
   "metadata": {},
   "source": [
    "#1. To start, define a function called strip_punctuation which takes one parameter, a string which represents a word, and removes characters considered punctuation from everywhere in the word. (Hint: remember the .replace() method for strings.)"
   ]
  },
  {
   "cell_type": "code",
   "execution_count": 35,
   "metadata": {
    "collapsed": true
   },
   "outputs": [],
   "source": [
    "def strip_punctuation(s):\n",
    "    punctuation_chars = [\"'\", '\"', \",\", \".\", \"!\", \":\", \";\", '#', '@']\n",
    "    for char in s:\n",
    "        #print(\"1st for loop:\", char)\n",
    "        for char in punctuation_chars:\n",
    "            #print(\"2nd for loop:\", char)\n",
    "            s = s.replace(char, \"\")\n",
    "            #print(\"after replce:\", s)\n",
    "        #print(\"back to 2nd for loop:\", s)\n",
    "        return s\n",
    "    return s"
   ]
  },
  {
   "cell_type": "code",
   "execution_count": 36,
   "metadata": {},
   "outputs": [
    {
     "data": {
      "text/plain": [
       "'incredible'"
      ]
     },
     "execution_count": 36,
     "metadata": {},
     "output_type": "execute_result"
    }
   ],
   "source": [
    "strip_punctuation(\"#in.cred..ible!\")"
   ]
  },
  {
   "cell_type": "code",
   "execution_count": 37,
   "metadata": {},
   "outputs": [
    {
     "data": {
      "text/plain": [
       "'wonderful'"
      ]
     },
     "execution_count": 37,
     "metadata": {},
     "output_type": "execute_result"
    }
   ],
   "source": [
    "strip_punctuation(\"wonderful\")"
   ]
  },
  {
   "cell_type": "code",
   "execution_count": 38,
   "metadata": {},
   "outputs": [
    {
     "data": {
      "text/plain": [
       "'what a truly wonderful day it is today incredible'"
      ]
     },
     "execution_count": 38,
     "metadata": {},
     "output_type": "execute_result"
    }
   ],
   "source": [
    "strip_punctuation(\"what a truly wonderful day it is today! #incredible\")"
   ]
  },
  {
   "cell_type": "code",
   "execution_count": 5,
   "metadata": {},
   "outputs": [
    {
     "name": "stdout",
     "output_type": "stream",
     "text": [
      "Input String is:\n",
      "#in.cred..ible!\n",
      "Output String is:\n",
      "incredible\n"
     ]
    }
   ],
   "source": [
    "punctuation= '''!()-[]{};:'\"\\, <>./?@#$%^&*_~'''\n",
    "myString= \"#in.cred..ible!\"\n",
    "print(\"Input String is:\")\n",
    "print(myString)\n",
    "for x in punctuation:\n",
    "    myString = myString.replace(x, \"\")\n",
    "print(\"Output String is:\")\n",
    "print(myString)"
   ]
  },
  {
   "cell_type": "code",
   "execution_count": 13,
   "metadata": {},
   "outputs": [
    {
     "name": "stdout",
     "output_type": "stream",
     "text": [
      "Input String is:\n",
      "#in.cred..ible!\n",
      "Output String is:\n",
      "incredible\n"
     ]
    }
   ],
   "source": [
    "punctuation= '''!()-[]{};:'\"\\, <>./?@#$%^&*_~'''\n",
    "myString= \"#in.cred..ible!\"\n",
    "print(\"Input String is:\")\n",
    "print(myString)\n",
    "def punctuation_removal(s):\n",
    "    punctuation= '''!()-[]{};:'\"\\, <>./?@#$%^&*_~'''\n",
    "    for char in s:\n",
    "        for char in punctuation:\n",
    "            s = s.replace(char, \"\")\n",
    "        return s\n",
    "print(\"Output String is:\")\n",
    "print(punctuation_removal(myString))"
   ]
  },
  {
   "cell_type": "code",
   "execution_count": 74,
   "metadata": {},
   "outputs": [
    {
     "name": "stdout",
     "output_type": "stream",
     "text": [
      "done: incredible\n"
     ]
    }
   ],
   "source": [
    "def strip_punctuation(s):\n",
    "    punctuation_chars = [\"'\", '\"', \",\", \".\", \"!\", \":\", \";\", '#', '@']\n",
    "    for char in s:\n",
    "        #print(\"for loop starts:\", char)\n",
    "        if char in punctuation_chars:\n",
    "            #print(\"if loop starts:\", char)\n",
    "            s = s.replace(char, \"\")\n",
    "            #print(\"after replace:\", s)\n",
    "        # CANNOT have \"return\" here, or it will end the if loop at first char\n",
    "        #print(\"back to for loop:\", s)\n",
    "    return s\n",
    "\n",
    "print(\"done:\", strip_punctuation(\"#in.cred..ible!\"))"
   ]
  },
  {
   "cell_type": "markdown",
   "metadata": {},
   "source": [
    "#2. Next, copy in your strip_punctuation function and define a function called get_pos which takes one parameter, a string which represents one or more sentences, and calculates how many words in the string are considered positive words. Use the list, positive_words to determine what words will count as positive. The function should return a positive integer - how many occurrences there are of positive words in the text. Note that all of the words in positive_words are lower cased, so you’ll need to convert all the words in the input string to lower case as well."
   ]
  },
  {
   "cell_type": "code",
   "execution_count": 130,
   "metadata": {
    "collapsed": true
   },
   "outputs": [],
   "source": [
    "def strip_punctuation(s):\n",
    "    punctuation_chars = [\"'\", '\"', \",\", \".\", \"!\", \":\", \";\", '#', '@']\n",
    "    for char in s:\n",
    "        for char in punctuation_chars:\n",
    "            s = s.replace(char, \"\")\n",
    "        return s\n",
    "    return s\n",
    "\n",
    "# get a list of positive words\n",
    "positive_words = []\n",
    "with open(\"positive_words.txt\") as pos_f:\n",
    "    for lin in pos_f:\n",
    "        if lin[0] != ';' and lin[0] != '\\n':\n",
    "            positive_words.append(lin.strip())\n",
    "#print(positive_words)\n",
    "\n",
    "def get_pos(string):\n",
    "    pos = 0\n",
    "    # covert string to lower case\n",
    "    string = string.lower()\n",
    "    #print(\"Lower case:\", string)\n",
    "    # strip all punctuation\n",
    "    string = strip_punctuation(string)\n",
    "    #print(\"Stripped:\", string)\n",
    "    words = string.split()\n",
    "    #print(words)\n",
    "    for word in words:\n",
    "        if word in positive_words:\n",
    "            pos += 1\n",
    "    return pos"
   ]
  },
  {
   "cell_type": "code",
   "execution_count": 131,
   "metadata": {},
   "outputs": [
    {
     "data": {
      "text/plain": [
       "2"
      ]
     },
     "execution_count": 131,
     "metadata": {},
     "output_type": "execute_result"
    }
   ],
   "source": [
    "s1 = \"What a truly wonderful day it is today! #incredible\"\n",
    "\n",
    "#print(strip_punctuation(s1))\n",
    "get_pos(s1)"
   ]
  },
  {
   "cell_type": "markdown",
   "metadata": {
    "collapsed": true
   },
   "source": [
    "Next, copy in your strip_punctuation function and define a function called get_neg which takes one parameter, a string which represents one or more sentences, and calculates how many words in the string are considered negative words. Use the list, negative_words to determine what words will count as negative. The function should return a positive integer - how many occurrences there are of negative words in the text. Note that all of the words in negative_words are lower cased, so you’ll need to convert all the words in the input string to lower case as well."
   ]
  },
  {
   "cell_type": "code",
   "execution_count": 194,
   "metadata": {
    "collapsed": true
   },
   "outputs": [],
   "source": [
    "# get a list of negative words\n",
    "negative_words = []\n",
    "with open(\"negative_words.txt\") as pos_f:\n",
    "    for lin in pos_f:\n",
    "        if lin[0] != ';' and lin[0] != '\\n':\n",
    "            negative_words.append(lin.strip())\n",
    "\n",
    "def get_neg(string):\n",
    "    neg = 0\n",
    "    string = string.lower()\n",
    "    #print(\"Lower case:\", string)\n",
    "    string = strip_punctuation(string)\n",
    "    #print(\"Stripped:\", string)\n",
    "    words = string.split()\n",
    "    #print(words)\n",
    "    for word in words:\n",
    "        if word in negative_words:\n",
    "            neg += 1\n",
    "    return neg"
   ]
  },
  {
   "cell_type": "code",
   "execution_count": 133,
   "metadata": {},
   "outputs": [
    {
     "data": {
      "text/plain": [
       "0"
      ]
     },
     "execution_count": 133,
     "metadata": {},
     "output_type": "execute_result"
    }
   ],
   "source": [
    "s2 = \"The weather truely is abnormal - it's october and already snowing!\"\n",
    "\n",
    "#print(strip_punctuation(s2))\n",
    "get_pos(s2)"
   ]
  },
  {
   "cell_type": "markdown",
   "metadata": {},
   "source": [
    "Finally, copy in your previous functions and write code that opens the file project_twitter_data.csv which has the fake generated twitter data (the text of a tweet, the number of retweets of that tweet, and the number of replies to that tweet). Your task is to build a sentiment classifier, which will detect how positive or negative each tweet is. Copy the code from the code windows above, and put that in the top of this code window. Now, you will write code to create a csv file called resulting_data.csv, which contains the Number of Retweets, Number of Replies, Positive Score (which is how many happy words are in the tweet), Negative Score (which is how many angry words are in the tweet), and the Net Score (how positive or negative the text is overall) for each tweet. The file should have those headers in that order. Remember that there is another component to this project. You will upload the csv file to Excel or Google Sheets and produce a graph of the Net Score vs Number of Retweets. Check Coursera for that portion of the assignment, if you’re accessing this textbook from Coursera."
   ]
  },
  {
   "cell_type": "code",
   "execution_count": 195,
   "metadata": {},
   "outputs": [
    {
     "name": "stdout",
     "output_type": "stream",
     "text": [
      "colunmn names: tweet_text,retweet_count,reply_count\n",
      "\n",
      "[('3', '0', 0, 0, 0), ('1', '0', 2, 2, 0), ('1', '2', 1, 0, 1), ('3', '1', 1, 0, 1), ('6', '0', 2, 0, 2), ('9', '5', 2, 0, 2), ('19', '0', 2, 0, 2), ('0', '0', 0, 3, -3), ('0', '0', 0, 2, -2), ('82', '2', 4, 0, 4), ('0', '0', 0, 1, -1), ('0', '0', 1, 0, 1), ('47', '0', 2, 0, 2), ('2', '1', 1, 0, 1), ('0', '2', 1, 0, 1), ('0', '0', 2, 1, 1), ('4', '6', 3, 0, 3), ('19', '0', 3, 1, 2), ('0', '0', 1, 1, 0)]\n"
     ]
    }
   ],
   "source": [
    "import pandas as pd\n",
    "twitter = pd.read_csv(\"project_twitter_data.csv\")\n",
    "#print(twitter)\n",
    "\n",
    "# read the csv file as text\n",
    "twit_text = open(\"project_twitter_data.csv\")\n",
    "lines = twit_text.readlines()\n",
    "\n",
    "# header is the first line\n",
    "header = lines[0]\n",
    "print(\"colunmn names:\", header)\n",
    "twit_content = lines[1:]\n",
    "\n",
    "# start an empty list of twit data\n",
    "twit_data = []\n",
    "for twit_lines in twit_content:\n",
    "    twit_lines = twit_lines.rstrip()\n",
    "    #print(twit_lines)\n",
    "    twit_info = twit_lines.split(',')\n",
    "    #print(twit_info)\n",
    "    retweet_count = twit_info[1]\n",
    "    reply_count = twit_info[2]\n",
    "    n_pos = get_pos(twit_info[0])\n",
    "    n_neg = get_neg(twit_info[0])\n",
    "    net = n_pos - n_neg\n",
    "    # twit_sum is a set of tuples\n",
    "    twit_sum = (retweet_count, reply_count, n_pos, n_neg, net)\n",
    "    #print(twit_sum)\n",
    "    #twit_data is a list of tuples\n",
    "    twit_data.append(twit_sum)\n",
    "\n",
    "print(twit_data)"
   ]
  },
  {
   "cell_type": "code",
   "execution_count": 197,
   "metadata": {
    "collapsed": true
   },
   "outputs": [],
   "source": [
    "# write the data into a csv file\n",
    "\n",
    "outfile = open(\"resulting_data.csv\", \"w\")\n",
    "# output the header row\n",
    "outfile.write('Number of Retweets, Number of Replies, Positive Score, Negative Score, Net Score')\n",
    "outfile.write('\\n')\n",
    "\n",
    "for item in twit_data:\n",
    "    #print(item)\n",
    "    for info in item:\n",
    "        info = '{},{},{},{},{}'.format(item[0], item[1], item[2], item[3], item[4])\n",
    "    #print(info)\n",
    "    outfile.write(info)\n",
    "    outfile.write('\\n')\n"
   ]
  },
  {
   "cell_type": "code",
   "execution_count": null,
   "metadata": {
    "collapsed": true
   },
   "outputs": [],
   "source": []
  },
  {
   "cell_type": "code",
   "execution_count": null,
   "metadata": {
    "collapsed": true
   },
   "outputs": [],
   "source": []
  }
 ],
 "metadata": {
  "kernelspec": {
   "display_name": "Python 3",
   "language": "python",
   "name": "python3"
  },
  "language_info": {
   "codemirror_mode": {
    "name": "ipython",
    "version": 3
   },
   "file_extension": ".py",
   "mimetype": "text/x-python",
   "name": "python",
   "nbconvert_exporter": "python",
   "pygments_lexer": "ipython3",
   "version": "3.6.3"
  }
 },
 "nbformat": 4,
 "nbformat_minor": 2
}
